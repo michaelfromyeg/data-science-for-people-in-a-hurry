{
 "cells": [
  {
   "cell_type": "markdown",
   "id": "4e9d4e33-ce63-430e-9ee8-e96c6e242dc1",
   "metadata": {},
   "source": [
    "<h1 style=\"text-align: center;\">Intro to Data Science in R</h1>\n",
    "<p style=\"text-align: center;\"><i>✨ a workshop for Hack The North 2021 ✨</i></p>"
   ]
  },
  {
   "cell_type": "markdown",
   "id": "27877298-0a8f-4577-8f8a-d85c4c2db867",
   "metadata": {},
   "source": [
    "<p style=\"text-align: center;\"><img style=\"box-shadow: 0 4px 8px 0 rgba(0, 0, 0, 0.2), 0 6px 20px 0 rgba(0, 0, 0, 0.19);\" width=\"25%\" src=\"./images/cover.png\" /></p>"
   ]
  },
  {
   "cell_type": "markdown",
   "id": "1dc10ac1-b05a-47da-b732-50b66c36dc7c",
   "metadata": {},
   "source": [
    "\n",
    "### Goals 🎯\n",
    "\n",
    "1. Describe, at a high-level, what data science is all about, i.e., the concepts behind the code\n",
    "2. Be able to write basic R code that reads, explores, and processes data sets. This is the meat and potatoes of today\n",
    "3. Make a model “useful” by publishing it for others to access. This is a hackathon, so we always want to keep this in mind\n",
    "\n",
    "### Links 🔗\n",
    "\n",
    "- **GitHub repository:** Source code [here](https://github.com/michaelfromyeg/data-science-for-people-in-a-hurry).\n",
    "- **Data set:** Available [here](https://www.kaggle.com/mylesoneill/world-university-rankings).\n",
    "- **Workshop slides** Available [here](https://docs.google.com/presentation/d/e/2PACX-1vSHjvmcgEvDLyE67BLr3S67f-Q3d0VRRaMTAoYFR4p36LJFrIpuZK3igBuXK6g_7-TWCEX1hkVI9j1O/pub?start=false&loop=false&delayms=30000).\n",
    "\n",
    "\n",
    "### Resources 📚\n",
    "\n",
    "Here's a few supplementary resources (that helped inspire this workshop's content)—I highly recommend you take a look at them!\n",
    "\n",
    "* [R Workshop Notes](http://tutorials.iq.harvard.edu/R/Rintro/Rintro.html)\n",
    "    * From Harvard; serves a solid introduction to R.\n",
    "* [Learn X in Y Minutes: R](https://learnxinyminutes.com/docs/r/)\n",
    "    * A quick way of catching up on R syntax quirks.\n",
    "* [Introduction to Data Science](https://ubc-dsci.github.io/introduction-to-datascience/index.html)\n",
    "    * The free and open-source textbook for UBC’s introductory data science course!\n",
    "* [putrinprod.com](https://putrinprod.com/)\n",
    "    * Various guides and resources for getting your R code in production."
   ]
  },
  {
   "cell_type": "code",
   "execution_count": 1,
   "id": "76da5e92-2136-496f-9803-bec02cc279bc",
   "metadata": {},
   "outputs": [],
   "source": [
    "# If you encounter any issues with the installation (the red block below will show an angry message) then let the workshop lead know!\n",
    "\n",
    "# Uncomment these lines if necessary!\n",
    "# install.packages(\"testthat\")\n",
    "# install.packages(\"IRdisplay\")\n",
    "# install.packages(\"tidyverse\")\n",
    "# install.packages(\"tidymodels\")\n",
    "# install.packages(\"naniar\")\n",
    "# install.packages(\"plotly\")"
   ]
  },
  {
   "cell_type": "code",
   "execution_count": 2,
   "id": "61d36378-3f42-4e39-8333-8f2aacf397ff",
   "metadata": {},
   "outputs": [
    {
     "name": "stderr",
     "output_type": "stream",
     "text": [
      "Warning message in system(\"timedatectl\", intern = TRUE):\n",
      "“running command 'timedatectl' had status 1”\n",
      "── \u001b[1mAttaching packages\u001b[22m ────────────────────────────────────────────────────────────── tidyverse 1.3.1 ──\n",
      "\n",
      "\u001b[32m✔\u001b[39m \u001b[34mggplot2\u001b[39m 3.3.5     \u001b[32m✔\u001b[39m \u001b[34mpurrr  \u001b[39m 0.3.4\n",
      "\u001b[32m✔\u001b[39m \u001b[34mtibble \u001b[39m 3.1.4     \u001b[32m✔\u001b[39m \u001b[34mdplyr  \u001b[39m 1.0.7\n",
      "\u001b[32m✔\u001b[39m \u001b[34mtidyr  \u001b[39m 1.1.3     \u001b[32m✔\u001b[39m \u001b[34mstringr\u001b[39m 1.4.0\n",
      "\u001b[32m✔\u001b[39m \u001b[34mreadr  \u001b[39m 2.0.1     \u001b[32m✔\u001b[39m \u001b[34mforcats\u001b[39m 0.5.1\n",
      "\n",
      "── \u001b[1mConflicts\u001b[22m ───────────────────────────────────────────────────────────────── tidyverse_conflicts() ──\n",
      "\u001b[31m✖\u001b[39m \u001b[34mreadr\u001b[39m::\u001b[32medition_get()\u001b[39m   masks \u001b[34mtestthat\u001b[39m::edition_get()\n",
      "\u001b[31m✖\u001b[39m \u001b[34mdplyr\u001b[39m::\u001b[32mfilter()\u001b[39m        masks \u001b[34mstats\u001b[39m::filter()\n",
      "\u001b[31m✖\u001b[39m \u001b[34mpurrr\u001b[39m::\u001b[32mis_null()\u001b[39m       masks \u001b[34mtestthat\u001b[39m::is_null()\n",
      "\u001b[31m✖\u001b[39m \u001b[34mdplyr\u001b[39m::\u001b[32mlag()\u001b[39m           masks \u001b[34mstats\u001b[39m::lag()\n",
      "\u001b[31m✖\u001b[39m \u001b[34mreadr\u001b[39m::\u001b[32mlocal_edition()\u001b[39m masks \u001b[34mtestthat\u001b[39m::local_edition()\n",
      "\u001b[31m✖\u001b[39m \u001b[34mdplyr\u001b[39m::\u001b[32mmatches()\u001b[39m       masks \u001b[34mtidyr\u001b[39m::matches(), \u001b[34mtestthat\u001b[39m::matches()\n",
      "\n",
      "Registered S3 method overwritten by 'tune':\n",
      "  method                   from   \n",
      "  required_pkgs.model_spec parsnip\n",
      "\n",
      "── \u001b[1mAttaching packages\u001b[22m ───────────────────────────────────────────────────────────── tidymodels 0.1.3 ──\n",
      "\n",
      "\u001b[32m✔\u001b[39m \u001b[34mbroom       \u001b[39m 0.7.9      \u001b[32m✔\u001b[39m \u001b[34mrsample     \u001b[39m 0.1.0 \n",
      "\u001b[32m✔\u001b[39m \u001b[34mdials       \u001b[39m 0.0.10     \u001b[32m✔\u001b[39m \u001b[34mtune        \u001b[39m 0.1.6 \n",
      "\u001b[32m✔\u001b[39m \u001b[34minfer       \u001b[39m 1.0.0      \u001b[32m✔\u001b[39m \u001b[34mworkflows   \u001b[39m 0.2.3 \n",
      "\u001b[32m✔\u001b[39m \u001b[34mmodeldata   \u001b[39m 0.1.1      \u001b[32m✔\u001b[39m \u001b[34mworkflowsets\u001b[39m 0.1.0 \n",
      "\u001b[32m✔\u001b[39m \u001b[34mparsnip     \u001b[39m 0.1.7      \u001b[32m✔\u001b[39m \u001b[34myardstick   \u001b[39m 0.0.8 \n",
      "\u001b[32m✔\u001b[39m \u001b[34mrecipes     \u001b[39m 0.1.16     \n",
      "\n",
      "── \u001b[1mConflicts\u001b[22m ──────────────────────────────────────────────────────────────── tidymodels_conflicts() ──\n",
      "\u001b[31m✖\u001b[39m \u001b[34mscales\u001b[39m::\u001b[32mdiscard()\u001b[39m  masks \u001b[34mpurrr\u001b[39m::discard()\n",
      "\u001b[31m✖\u001b[39m \u001b[34mdplyr\u001b[39m::\u001b[32mfilter()\u001b[39m    masks \u001b[34mstats\u001b[39m::filter()\n",
      "\u001b[31m✖\u001b[39m \u001b[34mrecipes\u001b[39m::\u001b[32mfixed()\u001b[39m   masks \u001b[34mstringr\u001b[39m::fixed()\n",
      "\u001b[31m✖\u001b[39m \u001b[34mpurrr\u001b[39m::\u001b[32mis_null()\u001b[39m   masks \u001b[34mtestthat\u001b[39m::is_null()\n",
      "\u001b[31m✖\u001b[39m \u001b[34mdplyr\u001b[39m::\u001b[32mlag()\u001b[39m       masks \u001b[34mstats\u001b[39m::lag()\n",
      "\u001b[31m✖\u001b[39m \u001b[34mrsample\u001b[39m::\u001b[32mmatches()\u001b[39m masks \u001b[34mdplyr\u001b[39m::matches(), \u001b[34mtidyr\u001b[39m::matches(), \u001b[34mtestthat\u001b[39m::matches()\n",
      "\u001b[31m✖\u001b[39m \u001b[34myardstick\u001b[39m::\u001b[32mspec()\u001b[39m  masks \u001b[34mreadr\u001b[39m::spec()\n",
      "\u001b[31m✖\u001b[39m \u001b[34mrecipes\u001b[39m::\u001b[32mstep()\u001b[39m    masks \u001b[34mstats\u001b[39m::step()\n",
      "\u001b[34m•\u001b[39m Use \u001b[32mtidymodels_prefer()\u001b[39m to resolve common conflicts.\n",
      "\n",
      "\n",
      "Attaching package: ‘plotly’\n",
      "\n",
      "\n",
      "The following object is masked from ‘package:ggplot2’:\n",
      "\n",
      "    last_plot\n",
      "\n",
      "\n",
      "The following object is masked from ‘package:stats’:\n",
      "\n",
      "    filter\n",
      "\n",
      "\n",
      "The following object is masked from ‘package:graphics’:\n",
      "\n",
      "    layout\n",
      "\n",
      "\n"
     ]
    }
   ],
   "source": [
    "library(testthat)\n",
    "library(IRdisplay)\n",
    "library(tidyverse)\n",
    "library(tidymodels)\n",
    "library(naniar)\n",
    "library(plotly)"
   ]
  },
  {
   "cell_type": "markdown",
   "id": "d25f65cd-e184-434f-a7f1-c4db82cc120a",
   "metadata": {},
   "source": [
    "### Getting Started with R 🐱‍💻\n",
    "\n",
    "R can be sometimes a bit tricky to read. Here's the basic syntax you need to know for today.\n",
    "\n",
    "- Assigning a variable\n",
    "- Method calls\n",
    "- Parameters\n",
    "- Printing to your notebook cell's output\n",
    "\n",
    "We'll learn each of these as we go, but up front, let's get comfortable with variables.\n"
   ]
  },
  {
   "cell_type": "code",
   "execution_count": 3,
   "id": "f47e4543-ed8a-4c38-882e-297d9de72efe",
   "metadata": {},
   "outputs": [
    {
     "data": {
      "text/html": [
       "9"
      ],
      "text/latex": [
       "9"
      ],
      "text/markdown": [
       "9"
      ],
      "text/plain": [
       "[1] 9"
      ]
     },
     "metadata": {},
     "output_type": "display_data"
    }
   ],
   "source": [
    "# Variables\n",
    "\n",
    "## Hold on to data (allow you to save a result or calculation)\n",
    "## Can \"change\" (i.e., vary, hence variable)\n",
    "## Once created, available anywhere in your program \n",
    "## (including later blocks of code)\n",
    "\n",
    "## To assign a variable in R, we use a fancy arrow, \"<-\"\n",
    "## The arrow means, take the thing on the right hand side and save it\n",
    "## to the variable on the left\n",
    "\n",
    "5 + 4        # Here, we're not saving the result of \"5 + 4\" anywhere\n",
    "x <- 5 + 4   # Here, we save it to x"
   ]
  },
  {
   "cell_type": "markdown",
   "id": "c93bba2f-bc95-4142-9e55-5f236582d7f2",
   "metadata": {},
   "source": [
    "Once we've assigned a value to a variable, we'll often want to print it's contents to the output of a given cell."
   ]
  },
  {
   "cell_type": "code",
   "execution_count": 4,
   "id": "989f05f3-6563-496f-b97d-bffd0c62dd84",
   "metadata": {},
   "outputs": [
    {
     "data": {
      "text/html": [
       "9"
      ],
      "text/latex": [
       "9"
      ],
      "text/markdown": [
       "9"
      ],
      "text/plain": [
       "[1] 9"
      ]
     },
     "metadata": {},
     "output_type": "display_data"
    },
    {
     "name": "stdout",
     "output_type": "stream",
     "text": [
      "[1] 9\n",
      "[1] 11\n"
     ]
    }
   ],
   "source": [
    "# Printing data\n",
    "\n",
    "## To print any data in R, we can simply \"put\" the variable on its own line\n",
    "## If you want to be more explicit about it you can also write `print(my_variable)`\n",
    "## Note the syntax here and lack of spaces. We write print(...), where ... is the variable we want to print. \n",
    "## It's often said that the ... is \"wrapped\" by parentheses.\n",
    "\n",
    "# All three of these lines will print the value of x\n",
    "\n",
    "x # Remember: we can access x down here!\n",
    "print(x)\n",
    "print(x + 2)"
   ]
  },
  {
   "cell_type": "code",
   "execution_count": 5,
   "id": "66f98532-90b7-4ef9-8b9f-cc85ccdd530f",
   "metadata": {},
   "outputs": [
    {
     "data": {
      "text/html": [
       "16"
      ],
      "text/latex": [
       "16"
      ],
      "text/markdown": [
       "16"
      ],
      "text/plain": [
       "[1] 16"
      ]
     },
     "metadata": {},
     "output_type": "display_data"
    }
   ],
   "source": [
    "# Your turn: in this cell, create a variable y that is equal to 7. \n",
    "# Then, created a variable z that is equal to the sum of x and y.\n",
    "# Finally, print z\n",
    "\n",
    "### BEGIN SOLUTION ###\n",
    "\n",
    "y <- 7\n",
    "z <- x + y\n",
    "z\n",
    "\n",
    "### END SOLUTION ###"
   ]
  },
  {
   "cell_type": "code",
   "execution_count": 6,
   "id": "63e7da9d-8085-4515-b4d1-80750db8729d",
   "metadata": {},
   "outputs": [
    {
     "name": "stdout",
     "output_type": "stream",
     "text": [
      "\u001b[32mTest passed\u001b[39m 😀\n",
      "\u001b[32mTest passed\u001b[39m 😀\n"
     ]
    }
   ],
   "source": [
    "# There'll be tests throughout this notebook to help make sure you're on the right track! If the tests work\n",
    "# (i.e., you solved the problem right), you should just see: \"Test passed\"\n",
    "\n",
    "test_that(\"y is correct\", {\n",
    "  expect_equal(y, 7)\n",
    "})\n",
    "test_that(\"z is correct\", {\n",
    "  expect_equal(z, 16)\n",
    "})"
   ]
  },
  {
   "cell_type": "code",
   "execution_count": 7,
   "id": "7e2f0071-4a90-48d8-8cac-01c3283632d8",
   "metadata": {},
   "outputs": [
    {
     "data": {
      "text/html": [
       "16"
      ],
      "text/latex": [
       "16"
      ],
      "text/markdown": [
       "16"
      ],
      "text/plain": [
       "[1] 16"
      ]
     },
     "metadata": {},
     "output_type": "display_data"
    }
   ],
   "source": [
    "# Your turn: change the value of x. Does the value of z change? Why or why not?\n",
    "\n",
    "### BEGIN SOLUTION ###\n",
    "\n",
    "x <- 0\n",
    "z\n",
    "\n",
    "# The value of z doesn't change, since it's been assigned to old x plus y; changing x doesn't change this sum \n",
    "# (this is subtle!)\n",
    "\n",
    "### END SOLUTION ###"
   ]
  },
  {
   "cell_type": "code",
   "execution_count": 8,
   "id": "8d0a4980-6d21-4965-955c-d4b4b53de3c6",
   "metadata": {},
   "outputs": [
    {
     "name": "stdout",
     "output_type": "stream",
     "text": [
      "\u001b[32mTest passed\u001b[39m 🥳\n"
     ]
    }
   ],
   "source": [
    "test_that(\"x has been changed\", {\n",
    "  expect_true(x != 9)\n",
    "})"
   ]
  },
  {
   "cell_type": "markdown",
   "id": "1c26663c-8f8f-4289-8149-7d8d45247c88",
   "metadata": {},
   "source": [
    "Now that we're familiar with variables, printing, and a few simple data types, let's talk briefly about functions."
   ]
  },
  {
   "cell_type": "code",
   "execution_count": 9,
   "id": "f071cacc-ae4e-4d54-bd01-6f782779b2b9",
   "metadata": {},
   "outputs": [
    {
     "data": {
      "text/html": [
       "0"
      ],
      "text/latex": [
       "0"
      ],
      "text/markdown": [
       "0"
      ],
      "text/plain": [
       "[1] 0"
      ]
     },
     "metadata": {},
     "output_type": "display_data"
    }
   ],
   "source": [
    "# Functions\n",
    "\n",
    "## This concept is very similar to math. Your classic y = f(x) is verymuchso the same concept in programming, \n",
    "## under the same name. We use functions to map 0-to-many inputs (called parameters, or arguments) to an \n",
    "## output, often called the result or return value. \n",
    "\n",
    "## The general form of a function *call* (this means we're using the function, that is, producing our y value) is,\n",
    "## result <- my_function(argument1, argument2, ..., argumentN) [see how this mirrors y = f(x)?]\n",
    "\n",
    "## When working with R, we very rarely create our own function (such as, saying h(x) = (x + 3) / 2), but we do use other\n",
    "## people's functions. Let's practice that!\n",
    "\n",
    "# This function converts a given argument temp_F, a temperature in Farenheit, to degrees Celcius\n",
    "# If this looks scary, don't worry! We'll almost never have to write our own functions in R\n",
    "fahrenheit_to_celsius <- function(temp_F) {\n",
    "  temp_C <- (temp_F - 32) * 5 / 9\n",
    "  return(temp_C)\n",
    "}\n",
    "\n",
    "how_hot <- fahrenheit_to_celsius(32)\n",
    "how_hot"
   ]
  },
  {
   "cell_type": "code",
   "execution_count": 10,
   "id": "252bc2a3-6e60-41e2-9680-a6f752bc838e",
   "metadata": {},
   "outputs": [
    {
     "name": "stdout",
     "output_type": "stream",
     "text": [
      "[1] 5\n",
      "[1] \"Hack The North\"\n"
     ]
    }
   ],
   "source": [
    "## Your turn: call the print function twice. First, with the number 5, and second, with the value \"Hack The North\" (in quotes).\n",
    "\n",
    "### BEGIN SOLUTION ###\n",
    "\n",
    "print(5)\n",
    "print(\"Hack The North\")\n",
    "\n",
    "### END SOLUTION ###"
   ]
  },
  {
   "cell_type": "markdown",
   "id": "907af00e-b33b-4630-a3f5-0b48245e1fac",
   "metadata": {},
   "source": [
    "Rome wasn't built in a day, and neither was a data scientist's notebook. We need to import functions from around the internet to move along a bit faster. We say that we import a \"library\" in our project to provide access to helpful new functions."
   ]
  },
  {
   "cell_type": "code",
   "execution_count": 11,
   "id": "6940b640-1f43-49b9-ab8c-bdef419102bb",
   "metadata": {},
   "outputs": [],
   "source": [
    "# Libraries\n",
    "\n",
    "## To get access to more functions that are already \"built in\" to R, we need to access things called libraries.\n",
    "## You can think of libraries as collections of functions that make R much more powerful. \n",
    "## For today's workshop, we just need one library, called tidyverse. To import a library, we use the library(...) function;\n",
    "## it accepts a library's name as the parameter (not as a string, just the actual text name).\n",
    "\n",
    "## P.S. Sometimes, we need to install a library first before we use it. To do this, just run install.packages(\"...\") where\n",
    "## ... is the name of the desired library.\n",
    "\n",
    "# Here's an example\n",
    "\n",
    "# install.packages(\"dplyr\")\n",
    "# library(dplyr)"
   ]
  },
  {
   "cell_type": "code",
   "execution_count": 12,
   "id": "1cd2116d-019f-4401-82d2-5a38367b4563",
   "metadata": {},
   "outputs": [
    {
     "name": "stderr",
     "output_type": "stream",
     "text": [
      "Loading required package: lattice\n",
      "\n",
      "\n",
      "Attaching package: ‘caret’\n",
      "\n",
      "\n",
      "The following objects are masked from ‘package:yardstick’:\n",
      "\n",
      "    precision, recall, sensitivity, specificity\n",
      "\n",
      "\n",
      "The following object is masked from ‘package:purrr’:\n",
      "\n",
      "    lift\n",
      "\n",
      "\n"
     ]
    }
   ],
   "source": [
    "## Your turn: install the caret package and import it \n",
    "\n",
    "### BEGIN SOLUTION ###\n",
    "\n",
    "# install.packages(\"caret\")\n",
    "library(caret)\n",
    "\n",
    "### END SOLUTION ###"
   ]
  },
  {
   "cell_type": "code",
   "execution_count": 13,
   "id": "2b95e5ed-242a-4f56-9418-2f4df070572a",
   "metadata": {},
   "outputs": [
    {
     "name": "stdout",
     "output_type": "stream",
     "text": [
      "\u001b[32mTest passed\u001b[39m 🥳\n"
     ]
    }
   ],
   "source": [
    "dp <- createDataPartition(iris$Species)\n",
    "test_that(\"caret is imported\", {\n",
    "  expect_equal(exists(\"dp\"), TRUE)\n",
    "})"
   ]
  },
  {
   "cell_type": "markdown",
   "id": "ba16ea01-ee0c-4f6a-bc04-b34e1173cf38",
   "metadata": {},
   "source": [
    "### Reading in a Data Set 📖\n",
    "\n",
    "Now that we're somewhat familiar with R syntax, we can begin reading in our data set. We're working with data from Kaggle on [World University Rankings](https://www.kaggle.com/mylesoneill/world-university-rankings). Our goal is to better understand how factors like `quality_of_education`, `publications`, and `patents` impact a university's \"score.\"\n",
    "\n",
    "The data set is a available as a \"comma-separated values\" file or CSV. It's a simpler version of a spreadsheet (think: `.xlsx`) that you've likely seen over the years. We can read it in using a library function called `read_csv`."
   ]
  },
  {
   "cell_type": "code",
   "execution_count": 14,
   "id": "855f711d-e622-4e70-bf39-7e1da8297e4c",
   "metadata": {},
   "outputs": [
    {
     "name": "stderr",
     "output_type": "stream",
     "text": [
      "\u001b[1m\u001b[1mRows: \u001b[1m\u001b[22m\u001b[34m\u001b[34m2200\u001b[34m\u001b[39m \u001b[1m\u001b[1mColumns: \u001b[1m\u001b[22m\u001b[34m\u001b[34m14\u001b[34m\u001b[39m\n",
      "\n",
      "\u001b[36m──\u001b[39m \u001b[1m\u001b[1mColumn specification\u001b[1m\u001b[22m \u001b[36m───────────────────────────────────────────────────────────────────────────────\u001b[39m\n",
      "\u001b[1mDelimiter:\u001b[22m \",\"\n",
      "\u001b[31mchr\u001b[39m  (2): institution, country\n",
      "\u001b[32mdbl\u001b[39m (12): world_rank, national_rank, quality_of_education, alumni_employment...\n",
      "\n",
      "\n",
      "\u001b[36mℹ\u001b[39m Use \u001b[30m\u001b[47m\u001b[30m\u001b[47m`spec()`\u001b[47m\u001b[30m\u001b[49m\u001b[39m to retrieve the full column specification for this data.\n",
      "\u001b[36mℹ\u001b[39m Specify the column types or set \u001b[30m\u001b[47m\u001b[30m\u001b[47m`show_col_types = FALSE`\u001b[47m\u001b[30m\u001b[49m\u001b[39m to quiet this message.\n",
      "\n"
     ]
    }
   ],
   "source": [
    "# The argument given to `read_csv` is a \"path\"; without getting into the nitty-gritty, it specifies where the file exists on your computer. You can also pass in URLs.\n",
    "university_df <- read_csv(\"./data/university_data.csv\")"
   ]
  },
  {
   "cell_type": "code",
   "execution_count": 15,
   "id": "50744d33-a8f7-4f73-b5ab-c034099d90fb",
   "metadata": {},
   "outputs": [
    {
     "data": {
      "text/html": [
       "<table class=\"dataframe\">\n",
       "<caption>A spec_tbl_df: 2200 × 14</caption>\n",
       "<thead>\n",
       "\t<tr><th scope=col>world_rank</th><th scope=col>institution</th><th scope=col>country</th><th scope=col>national_rank</th><th scope=col>quality_of_education</th><th scope=col>alumni_employment</th><th scope=col>quality_of_faculty</th><th scope=col>publications</th><th scope=col>influence</th><th scope=col>citations</th><th scope=col>broad_impact</th><th scope=col>patents</th><th scope=col>score</th><th scope=col>year</th></tr>\n",
       "\t<tr><th scope=col>&lt;dbl&gt;</th><th scope=col>&lt;chr&gt;</th><th scope=col>&lt;chr&gt;</th><th scope=col>&lt;dbl&gt;</th><th scope=col>&lt;dbl&gt;</th><th scope=col>&lt;dbl&gt;</th><th scope=col>&lt;dbl&gt;</th><th scope=col>&lt;dbl&gt;</th><th scope=col>&lt;dbl&gt;</th><th scope=col>&lt;dbl&gt;</th><th scope=col>&lt;dbl&gt;</th><th scope=col>&lt;dbl&gt;</th><th scope=col>&lt;dbl&gt;</th><th scope=col>&lt;dbl&gt;</th></tr>\n",
       "</thead>\n",
       "<tbody>\n",
       "\t<tr><td> 1</td><td>Harvard University                             </td><td>USA           </td><td> 1</td><td>  7</td><td>  9</td><td> 1</td><td>  1</td><td> 1</td><td>  1</td><td>NA</td><td>  5</td><td>100.00</td><td>2012</td></tr>\n",
       "\t<tr><td> 2</td><td>Massachusetts Institute of Technology          </td><td>USA           </td><td> 2</td><td>  9</td><td> 17</td><td> 3</td><td> 12</td><td> 4</td><td>  4</td><td>NA</td><td>  1</td><td> 91.67</td><td>2012</td></tr>\n",
       "\t<tr><td> 3</td><td>Stanford University                            </td><td>USA           </td><td> 3</td><td> 17</td><td> 11</td><td> 5</td><td>  4</td><td> 2</td><td>  2</td><td>NA</td><td> 15</td><td> 89.50</td><td>2012</td></tr>\n",
       "\t<tr><td> 4</td><td>University of Cambridge                        </td><td>United Kingdom</td><td> 1</td><td> 10</td><td> 24</td><td> 4</td><td> 16</td><td>16</td><td> 11</td><td>NA</td><td> 50</td><td> 86.17</td><td>2012</td></tr>\n",
       "\t<tr><td> 5</td><td>California Institute of Technology             </td><td>USA           </td><td> 4</td><td>  2</td><td> 29</td><td> 7</td><td> 37</td><td>22</td><td> 22</td><td>NA</td><td> 18</td><td> 85.21</td><td>2012</td></tr>\n",
       "\t<tr><td> 6</td><td>Princeton University                           </td><td>USA           </td><td> 5</td><td>  8</td><td> 14</td><td> 2</td><td> 53</td><td>33</td><td> 26</td><td>NA</td><td>101</td><td> 82.50</td><td>2012</td></tr>\n",
       "\t<tr><td> 7</td><td>University of Oxford                           </td><td>United Kingdom</td><td> 2</td><td> 13</td><td> 28</td><td> 9</td><td> 15</td><td>13</td><td> 19</td><td>NA</td><td> 26</td><td> 82.34</td><td>2012</td></tr>\n",
       "\t<tr><td> 8</td><td>Yale University                                </td><td>USA           </td><td> 6</td><td> 14</td><td> 31</td><td>12</td><td> 14</td><td> 6</td><td> 15</td><td>NA</td><td> 66</td><td> 79.14</td><td>2012</td></tr>\n",
       "\t<tr><td> 9</td><td>Columbia University                            </td><td>USA           </td><td> 7</td><td> 23</td><td> 21</td><td>10</td><td> 13</td><td>12</td><td> 14</td><td>NA</td><td>  5</td><td> 78.86</td><td>2012</td></tr>\n",
       "\t<tr><td>10</td><td>University of California, Berkeley             </td><td>USA           </td><td> 8</td><td> 16</td><td> 52</td><td> 6</td><td>  6</td><td> 5</td><td>  3</td><td>NA</td><td> 16</td><td> 78.55</td><td>2012</td></tr>\n",
       "\t<tr><td>11</td><td>University of Chicago                          </td><td>USA           </td><td> 9</td><td> 15</td><td> 26</td><td> 8</td><td> 34</td><td>20</td><td> 28</td><td>NA</td><td>101</td><td> 73.82</td><td>2012</td></tr>\n",
       "\t<tr><td>12</td><td>Cornell University                             </td><td>USA           </td><td>10</td><td> 21</td><td> 42</td><td>14</td><td> 22</td><td>21</td><td> 16</td><td>NA</td><td> 10</td><td> 73.69</td><td>2012</td></tr>\n",
       "\t<tr><td>13</td><td>University of Pennsylvania                     </td><td>USA           </td><td>11</td><td> 31</td><td> 16</td><td>24</td><td>  9</td><td>10</td><td>  8</td><td>NA</td><td>  9</td><td> 73.64</td><td>2012</td></tr>\n",
       "\t<tr><td>14</td><td>University of Tokyo                            </td><td>Japan         </td><td> 1</td><td> 32</td><td> 19</td><td>31</td><td>  8</td><td>19</td><td> 23</td><td>NA</td><td>  3</td><td> 69.49</td><td>2012</td></tr>\n",
       "\t<tr><td>15</td><td>Johns Hopkins University                       </td><td>USA           </td><td>12</td><td> 34</td><td> 77</td><td>20</td><td> 11</td><td> 9</td><td>  9</td><td>NA</td><td>  7</td><td> 66.94</td><td>2012</td></tr>\n",
       "\t<tr><td>16</td><td>Swiss Federal Institute of Technology in Zurich</td><td>Switzerland   </td><td> 1</td><td> 26</td><td> 66</td><td>11</td><td> 40</td><td>51</td><td> 44</td><td>NA</td><td> 34</td><td> 66.69</td><td>2012</td></tr>\n",
       "\t<tr><td>17</td><td>Kyoto University                               </td><td>Japan         </td><td> 2</td><td> 42</td><td> 38</td><td>19</td><td> 25</td><td>36</td><td> 43</td><td>NA</td><td> 23</td><td> 65.76</td><td>2012</td></tr>\n",
       "\t<tr><td>18</td><td>Weizmann Institute of Science                  </td><td>Israel        </td><td> 1</td><td>  4</td><td>101</td><td>22</td><td>101</td><td>67</td><td>101</td><td>NA</td><td> 29</td><td> 65.09</td><td>2012</td></tr>\n",
       "\t<tr><td>19</td><td>University of California, Los Angeles          </td><td>USA           </td><td>13</td><td> 62</td><td> 59</td><td>23</td><td>  3</td><td>11</td><td>  6</td><td>NA</td><td> 13</td><td> 64.05</td><td>2012</td></tr>\n",
       "\t<tr><td>20</td><td>University of California, San Diego            </td><td>USA           </td><td>14</td><td> 61</td><td>101</td><td>15</td><td> 10</td><td> 8</td><td> 10</td><td>NA</td><td> 22</td><td> 63.11</td><td>2012</td></tr>\n",
       "\t<tr><td>21</td><td>Rockefeller University                         </td><td>USA           </td><td>15</td><td>  1</td><td>101</td><td>16</td><td>101</td><td>28</td><td> 96</td><td>NA</td><td>101</td><td> 61.74</td><td>2012</td></tr>\n",
       "\t<tr><td>22</td><td>Hebrew University of Jerusalem                 </td><td>Israel        </td><td> 2</td><td> 24</td><td> 93</td><td>13</td><td>101</td><td>91</td><td>101</td><td>NA</td><td> 28</td><td> 60.76</td><td>2012</td></tr>\n",
       "\t<tr><td>23</td><td>New York University                            </td><td>USA           </td><td>16</td><td> 89</td><td> 75</td><td>17</td><td> 42</td><td>24</td><td> 34</td><td>NA</td><td> 62</td><td> 60.55</td><td>2012</td></tr>\n",
       "\t<tr><td>24</td><td>University of California, San Francisco        </td><td>USA           </td><td>17</td><td>101</td><td>101</td><td>21</td><td> 19</td><td> 3</td><td> 13</td><td>NA</td><td> 33</td><td> 59.70</td><td>2012</td></tr>\n",
       "\t<tr><td>25</td><td>University of Wisconsin–Madison                </td><td>USA           </td><td>18</td><td> 64</td><td> 63</td><td>33</td><td> 17</td><td>30</td><td> 21</td><td>NA</td><td> 21</td><td> 59.66</td><td>2012</td></tr>\n",
       "\t<tr><td>26</td><td>University of Illinois at Urbana–Champaign     </td><td>USA           </td><td>19</td><td> 82</td><td>101</td><td>18</td><td> 35</td><td>71</td><td> 39</td><td>NA</td><td> 44</td><td> 59.00</td><td>2012</td></tr>\n",
       "\t<tr><td>27</td><td>Duke University                                </td><td>USA           </td><td>20</td><td> 65</td><td> 43</td><td>55</td><td> 20</td><td>15</td><td> 12</td><td>NA</td><td> 20</td><td> 58.37</td><td>2012</td></tr>\n",
       "\t<tr><td>28</td><td>Imperial College London                        </td><td>United Kingdom</td><td> 3</td><td> 84</td><td> 73</td><td>35</td><td> 26</td><td>26</td><td> 29</td><td>NA</td><td> 41</td><td> 57.53</td><td>2012</td></tr>\n",
       "\t<tr><td>29</td><td>University of Texas Southwestern Medical Center</td><td>USA           </td><td>21</td><td> 19</td><td>101</td><td>32</td><td>101</td><td>43</td><td> 84</td><td>NA</td><td>101</td><td> 56.43</td><td>2012</td></tr>\n",
       "\t<tr><td>30</td><td>University of Texas at Austin                  </td><td>USA           </td><td>22</td><td>101</td><td> 78</td><td>27</td><td> 41</td><td>47</td><td> 40</td><td>NA</td><td> 57</td><td> 56.18</td><td>2012</td></tr>\n",
       "\t<tr><td>⋮</td><td>⋮</td><td>⋮</td><td>⋮</td><td>⋮</td><td>⋮</td><td>⋮</td><td>⋮</td><td>⋮</td><td>⋮</td><td>⋮</td><td>⋮</td><td>⋮</td><td>⋮</td></tr>\n",
       "\t<tr><td> 971</td><td>Fu Jen Catholic University                        </td><td>Taiwan        </td><td>19</td><td>367</td><td>446</td><td>218</td><td>984</td><td>887</td><td>812</td><td>958</td><td>824</td><td>44.06</td><td>2015</td></tr>\n",
       "\t<tr><td> 972</td><td>Hunan Normal University                           </td><td>China         </td><td>74</td><td>367</td><td>567</td><td>218</td><td>923</td><td>917</td><td>812</td><td>932</td><td>871</td><td>44.06</td><td>2015</td></tr>\n",
       "\t<tr><td> 973</td><td>Ulsan National Institute of Science and Technology</td><td>South Korea   </td><td>36</td><td>367</td><td>567</td><td>218</td><td>880</td><td>912</td><td>645</td><td>984</td><td>349</td><td>44.06</td><td>2015</td></tr>\n",
       "\t<tr><td> 974</td><td>Federal University of Santa Maria                 </td><td>Brazil        </td><td>16</td><td>367</td><td>396</td><td>218</td><td>954</td><td>974</td><td>812</td><td>975</td><td>871</td><td>44.05</td><td>2015</td></tr>\n",
       "\t<tr><td> 975</td><td>Shenzhen University                               </td><td>China         </td><td>75</td><td>367</td><td>410</td><td>218</td><td>976</td><td>778</td><td>645</td><td>999</td><td>318</td><td>44.05</td><td>2015</td></tr>\n",
       "\t<tr><td> 976</td><td>Tianjin Medical University                        </td><td>China         </td><td>76</td><td>367</td><td>567</td><td>218</td><td>885</td><td>857</td><td>812</td><td>946</td><td>839</td><td>44.05</td><td>2015</td></tr>\n",
       "\t<tr><td> 977</td><td>Beijing University of Technology                  </td><td>China         </td><td>77</td><td>367</td><td>567</td><td>218</td><td>780</td><td>950</td><td>812</td><td>969</td><td>512</td><td>44.05</td><td>2015</td></tr>\n",
       "\t<tr><td> 978</td><td>University of Reims Champagne-Ardenne             </td><td>France        </td><td>48</td><td>367</td><td>567</td><td>218</td><td>967</td><td>884</td><td>645</td><td>958</td><td>544</td><td>44.05</td><td>2015</td></tr>\n",
       "\t<tr><td> 979</td><td>Yuan Ze University                                </td><td>Taiwan        </td><td>20</td><td>367</td><td>567</td><td>218</td><td>923</td><td>984</td><td>812</td><td>946</td><td>871</td><td>44.05</td><td>2015</td></tr>\n",
       "\t<tr><td> 980</td><td>University of Chemistry and Technology, Prague    </td><td>Czech Republic</td><td> 5</td><td>367</td><td>567</td><td>218</td><td>991</td><td>868</td><td>812</td><td>946</td><td>778</td><td>44.05</td><td>2015</td></tr>\n",
       "\t<tr><td> 981</td><td>University of Limerick                            </td><td>Ireland       </td><td> 8</td><td>367</td><td>529</td><td>218</td><td>892</td><td>863</td><td>812</td><td>969</td><td>516</td><td>44.05</td><td>2015</td></tr>\n",
       "\t<tr><td> 982</td><td>China Medical University (PRC)                    </td><td>China         </td><td>78</td><td>367</td><td>567</td><td>218</td><td>804</td><td>749</td><td>645</td><td>958</td><td>871</td><td>44.04</td><td>2015</td></tr>\n",
       "\t<tr><td> 983</td><td>Feng Chia University                              </td><td>Taiwan        </td><td>21</td><td>367</td><td>434</td><td>218</td><td>902</td><td>991</td><td>812</td><td>975</td><td>871</td><td>44.04</td><td>2015</td></tr>\n",
       "\t<tr><td> 984</td><td>Zhejiang University of Technology                 </td><td>China         </td><td>79</td><td>367</td><td>567</td><td>218</td><td>858</td><td>991</td><td>812</td><td>958</td><td>672</td><td>44.04</td><td>2015</td></tr>\n",
       "\t<tr><td> 985</td><td>Novosibirsk State University                      </td><td>Russia        </td><td> 5</td><td>167</td><td>567</td><td>218</td><td>819</td><td>858</td><td>645</td><td>991</td><td>871</td><td>44.04</td><td>2015</td></tr>\n",
       "\t<tr><td> 986</td><td>University of Bucharest                           </td><td>Romania       </td><td> 1</td><td>237</td><td>567</td><td>218</td><td>845</td><td>804</td><td>645</td><td>975</td><td>871</td><td>44.04</td><td>2015</td></tr>\n",
       "\t<tr><td> 987</td><td>Babeș-Bolyai University                           </td><td>Romania       </td><td> 2</td><td>367</td><td>567</td><td>218</td><td>874</td><td>855</td><td>812</td><td>958</td><td>871</td><td>44.04</td><td>2015</td></tr>\n",
       "\t<tr><td> 988</td><td>Mansoura University                               </td><td>Egypt         </td><td> 3</td><td>367</td><td>567</td><td>218</td><td>987</td><td>969</td><td>645</td><td>958</td><td>871</td><td>44.04</td><td>2015</td></tr>\n",
       "\t<tr><td> 989</td><td>University of Pau and Pays de l'Adour             </td><td>France        </td><td>49</td><td>367</td><td>567</td><td>218</td><td>980</td><td>991</td><td>812</td><td>958</td><td>809</td><td>44.04</td><td>2015</td></tr>\n",
       "\t<tr><td> 990</td><td>Henan Normal University                           </td><td>China         </td><td>80</td><td>367</td><td>567</td><td>218</td><td>959</td><td>991</td><td>812</td><td>958</td><td>871</td><td>44.04</td><td>2015</td></tr>\n",
       "\t<tr><td> 991</td><td>Xidian University                                 </td><td>China         </td><td>81</td><td>367</td><td>542</td><td>218</td><td>830</td><td>974</td><td>812</td><td>984</td><td>434</td><td>44.03</td><td>2015</td></tr>\n",
       "\t<tr><td> 992</td><td>Federal University of Bahia                       </td><td>Brazil        </td><td>17</td><td>367</td><td>540</td><td>218</td><td>962</td><td>865</td><td>645</td><td>969</td><td>774</td><td>44.03</td><td>2015</td></tr>\n",
       "\t<tr><td> 993</td><td>Southwest Jiaotong University                     </td><td>China         </td><td>82</td><td>367</td><td>327</td><td>218</td><td>937</td><td>962</td><td>812</td><td>998</td><td>861</td><td>44.03</td><td>2015</td></tr>\n",
       "\t<tr><td> 994</td><td>Ryerson University                                </td><td>Canada        </td><td>33</td><td>367</td><td>567</td><td>218</td><td>811</td><td>969</td><td>511</td><td>975</td><td>756</td><td>44.03</td><td>2015</td></tr>\n",
       "\t<tr><td> 995</td><td>King Abdulaziz University                         </td><td>Saudi Arabia  </td><td> 4</td><td>367</td><td>449</td><td>218</td><td>595</td><td>430</td><td>645</td><td>994</td><td>839</td><td>44.03</td><td>2015</td></tr>\n",
       "\t<tr><td> 996</td><td>University of the Algarve                         </td><td>Portugal      </td><td> 7</td><td>367</td><td>567</td><td>218</td><td>926</td><td>845</td><td>812</td><td>969</td><td>816</td><td>44.03</td><td>2015</td></tr>\n",
       "\t<tr><td> 997</td><td>Alexandria University                             </td><td>Egypt         </td><td> 4</td><td>236</td><td>566</td><td>218</td><td>997</td><td>908</td><td>645</td><td>981</td><td>871</td><td>44.03</td><td>2015</td></tr>\n",
       "\t<tr><td> 998</td><td>Federal University of Ceará                       </td><td>Brazil        </td><td>18</td><td>367</td><td>549</td><td>218</td><td>830</td><td>823</td><td>812</td><td>975</td><td>824</td><td>44.03</td><td>2015</td></tr>\n",
       "\t<tr><td> 999</td><td>University of A Coruña                            </td><td>Spain         </td><td>40</td><td>367</td><td>567</td><td>218</td><td>886</td><td>974</td><td>812</td><td>975</td><td>651</td><td>44.02</td><td>2015</td></tr>\n",
       "\t<tr><td>1000</td><td>China Pharmaceutical University                   </td><td>China         </td><td>83</td><td>367</td><td>567</td><td>218</td><td>861</td><td>991</td><td>812</td><td>981</td><td>547</td><td>44.02</td><td>2015</td></tr>\n",
       "</tbody>\n",
       "</table>\n"
      ],
      "text/latex": [
       "A spec\\_tbl\\_df: 2200 × 14\n",
       "\\begin{tabular}{llllllllllllll}\n",
       " world\\_rank & institution & country & national\\_rank & quality\\_of\\_education & alumni\\_employment & quality\\_of\\_faculty & publications & influence & citations & broad\\_impact & patents & score & year\\\\\n",
       " <dbl> & <chr> & <chr> & <dbl> & <dbl> & <dbl> & <dbl> & <dbl> & <dbl> & <dbl> & <dbl> & <dbl> & <dbl> & <dbl>\\\\\n",
       "\\hline\n",
       "\t  1 & Harvard University                              & USA            &  1 &   7 &   9 &  1 &   1 &  1 &   1 & NA &   5 & 100.00 & 2012\\\\\n",
       "\t  2 & Massachusetts Institute of Technology           & USA            &  2 &   9 &  17 &  3 &  12 &  4 &   4 & NA &   1 &  91.67 & 2012\\\\\n",
       "\t  3 & Stanford University                             & USA            &  3 &  17 &  11 &  5 &   4 &  2 &   2 & NA &  15 &  89.50 & 2012\\\\\n",
       "\t  4 & University of Cambridge                         & United Kingdom &  1 &  10 &  24 &  4 &  16 & 16 &  11 & NA &  50 &  86.17 & 2012\\\\\n",
       "\t  5 & California Institute of Technology              & USA            &  4 &   2 &  29 &  7 &  37 & 22 &  22 & NA &  18 &  85.21 & 2012\\\\\n",
       "\t  6 & Princeton University                            & USA            &  5 &   8 &  14 &  2 &  53 & 33 &  26 & NA & 101 &  82.50 & 2012\\\\\n",
       "\t  7 & University of Oxford                            & United Kingdom &  2 &  13 &  28 &  9 &  15 & 13 &  19 & NA &  26 &  82.34 & 2012\\\\\n",
       "\t  8 & Yale University                                 & USA            &  6 &  14 &  31 & 12 &  14 &  6 &  15 & NA &  66 &  79.14 & 2012\\\\\n",
       "\t  9 & Columbia University                             & USA            &  7 &  23 &  21 & 10 &  13 & 12 &  14 & NA &   5 &  78.86 & 2012\\\\\n",
       "\t 10 & University of California, Berkeley              & USA            &  8 &  16 &  52 &  6 &   6 &  5 &   3 & NA &  16 &  78.55 & 2012\\\\\n",
       "\t 11 & University of Chicago                           & USA            &  9 &  15 &  26 &  8 &  34 & 20 &  28 & NA & 101 &  73.82 & 2012\\\\\n",
       "\t 12 & Cornell University                              & USA            & 10 &  21 &  42 & 14 &  22 & 21 &  16 & NA &  10 &  73.69 & 2012\\\\\n",
       "\t 13 & University of Pennsylvania                      & USA            & 11 &  31 &  16 & 24 &   9 & 10 &   8 & NA &   9 &  73.64 & 2012\\\\\n",
       "\t 14 & University of Tokyo                             & Japan          &  1 &  32 &  19 & 31 &   8 & 19 &  23 & NA &   3 &  69.49 & 2012\\\\\n",
       "\t 15 & Johns Hopkins University                        & USA            & 12 &  34 &  77 & 20 &  11 &  9 &   9 & NA &   7 &  66.94 & 2012\\\\\n",
       "\t 16 & Swiss Federal Institute of Technology in Zurich & Switzerland    &  1 &  26 &  66 & 11 &  40 & 51 &  44 & NA &  34 &  66.69 & 2012\\\\\n",
       "\t 17 & Kyoto University                                & Japan          &  2 &  42 &  38 & 19 &  25 & 36 &  43 & NA &  23 &  65.76 & 2012\\\\\n",
       "\t 18 & Weizmann Institute of Science                   & Israel         &  1 &   4 & 101 & 22 & 101 & 67 & 101 & NA &  29 &  65.09 & 2012\\\\\n",
       "\t 19 & University of California, Los Angeles           & USA            & 13 &  62 &  59 & 23 &   3 & 11 &   6 & NA &  13 &  64.05 & 2012\\\\\n",
       "\t 20 & University of California, San Diego             & USA            & 14 &  61 & 101 & 15 &  10 &  8 &  10 & NA &  22 &  63.11 & 2012\\\\\n",
       "\t 21 & Rockefeller University                          & USA            & 15 &   1 & 101 & 16 & 101 & 28 &  96 & NA & 101 &  61.74 & 2012\\\\\n",
       "\t 22 & Hebrew University of Jerusalem                  & Israel         &  2 &  24 &  93 & 13 & 101 & 91 & 101 & NA &  28 &  60.76 & 2012\\\\\n",
       "\t 23 & New York University                             & USA            & 16 &  89 &  75 & 17 &  42 & 24 &  34 & NA &  62 &  60.55 & 2012\\\\\n",
       "\t 24 & University of California, San Francisco         & USA            & 17 & 101 & 101 & 21 &  19 &  3 &  13 & NA &  33 &  59.70 & 2012\\\\\n",
       "\t 25 & University of Wisconsin–Madison                 & USA            & 18 &  64 &  63 & 33 &  17 & 30 &  21 & NA &  21 &  59.66 & 2012\\\\\n",
       "\t 26 & University of Illinois at Urbana–Champaign      & USA            & 19 &  82 & 101 & 18 &  35 & 71 &  39 & NA &  44 &  59.00 & 2012\\\\\n",
       "\t 27 & Duke University                                 & USA            & 20 &  65 &  43 & 55 &  20 & 15 &  12 & NA &  20 &  58.37 & 2012\\\\\n",
       "\t 28 & Imperial College London                         & United Kingdom &  3 &  84 &  73 & 35 &  26 & 26 &  29 & NA &  41 &  57.53 & 2012\\\\\n",
       "\t 29 & University of Texas Southwestern Medical Center & USA            & 21 &  19 & 101 & 32 & 101 & 43 &  84 & NA & 101 &  56.43 & 2012\\\\\n",
       "\t 30 & University of Texas at Austin                   & USA            & 22 & 101 &  78 & 27 &  41 & 47 &  40 & NA &  57 &  56.18 & 2012\\\\\n",
       "\t ⋮ & ⋮ & ⋮ & ⋮ & ⋮ & ⋮ & ⋮ & ⋮ & ⋮ & ⋮ & ⋮ & ⋮ & ⋮ & ⋮\\\\\n",
       "\t  971 & Fu Jen Catholic University                         & Taiwan         & 19 & 367 & 446 & 218 & 984 & 887 & 812 & 958 & 824 & 44.06 & 2015\\\\\n",
       "\t  972 & Hunan Normal University                            & China          & 74 & 367 & 567 & 218 & 923 & 917 & 812 & 932 & 871 & 44.06 & 2015\\\\\n",
       "\t  973 & Ulsan National Institute of Science and Technology & South Korea    & 36 & 367 & 567 & 218 & 880 & 912 & 645 & 984 & 349 & 44.06 & 2015\\\\\n",
       "\t  974 & Federal University of Santa Maria                  & Brazil         & 16 & 367 & 396 & 218 & 954 & 974 & 812 & 975 & 871 & 44.05 & 2015\\\\\n",
       "\t  975 & Shenzhen University                                & China          & 75 & 367 & 410 & 218 & 976 & 778 & 645 & 999 & 318 & 44.05 & 2015\\\\\n",
       "\t  976 & Tianjin Medical University                         & China          & 76 & 367 & 567 & 218 & 885 & 857 & 812 & 946 & 839 & 44.05 & 2015\\\\\n",
       "\t  977 & Beijing University of Technology                   & China          & 77 & 367 & 567 & 218 & 780 & 950 & 812 & 969 & 512 & 44.05 & 2015\\\\\n",
       "\t  978 & University of Reims Champagne-Ardenne              & France         & 48 & 367 & 567 & 218 & 967 & 884 & 645 & 958 & 544 & 44.05 & 2015\\\\\n",
       "\t  979 & Yuan Ze University                                 & Taiwan         & 20 & 367 & 567 & 218 & 923 & 984 & 812 & 946 & 871 & 44.05 & 2015\\\\\n",
       "\t  980 & University of Chemistry and Technology, Prague     & Czech Republic &  5 & 367 & 567 & 218 & 991 & 868 & 812 & 946 & 778 & 44.05 & 2015\\\\\n",
       "\t  981 & University of Limerick                             & Ireland        &  8 & 367 & 529 & 218 & 892 & 863 & 812 & 969 & 516 & 44.05 & 2015\\\\\n",
       "\t  982 & China Medical University (PRC)                     & China          & 78 & 367 & 567 & 218 & 804 & 749 & 645 & 958 & 871 & 44.04 & 2015\\\\\n",
       "\t  983 & Feng Chia University                               & Taiwan         & 21 & 367 & 434 & 218 & 902 & 991 & 812 & 975 & 871 & 44.04 & 2015\\\\\n",
       "\t  984 & Zhejiang University of Technology                  & China          & 79 & 367 & 567 & 218 & 858 & 991 & 812 & 958 & 672 & 44.04 & 2015\\\\\n",
       "\t  985 & Novosibirsk State University                       & Russia         &  5 & 167 & 567 & 218 & 819 & 858 & 645 & 991 & 871 & 44.04 & 2015\\\\\n",
       "\t  986 & University of Bucharest                            & Romania        &  1 & 237 & 567 & 218 & 845 & 804 & 645 & 975 & 871 & 44.04 & 2015\\\\\n",
       "\t  987 & Babeș-Bolyai University                            & Romania        &  2 & 367 & 567 & 218 & 874 & 855 & 812 & 958 & 871 & 44.04 & 2015\\\\\n",
       "\t  988 & Mansoura University                                & Egypt          &  3 & 367 & 567 & 218 & 987 & 969 & 645 & 958 & 871 & 44.04 & 2015\\\\\n",
       "\t  989 & University of Pau and Pays de l'Adour              & France         & 49 & 367 & 567 & 218 & 980 & 991 & 812 & 958 & 809 & 44.04 & 2015\\\\\n",
       "\t  990 & Henan Normal University                            & China          & 80 & 367 & 567 & 218 & 959 & 991 & 812 & 958 & 871 & 44.04 & 2015\\\\\n",
       "\t  991 & Xidian University                                  & China          & 81 & 367 & 542 & 218 & 830 & 974 & 812 & 984 & 434 & 44.03 & 2015\\\\\n",
       "\t  992 & Federal University of Bahia                        & Brazil         & 17 & 367 & 540 & 218 & 962 & 865 & 645 & 969 & 774 & 44.03 & 2015\\\\\n",
       "\t  993 & Southwest Jiaotong University                      & China          & 82 & 367 & 327 & 218 & 937 & 962 & 812 & 998 & 861 & 44.03 & 2015\\\\\n",
       "\t  994 & Ryerson University                                 & Canada         & 33 & 367 & 567 & 218 & 811 & 969 & 511 & 975 & 756 & 44.03 & 2015\\\\\n",
       "\t  995 & King Abdulaziz University                          & Saudi Arabia   &  4 & 367 & 449 & 218 & 595 & 430 & 645 & 994 & 839 & 44.03 & 2015\\\\\n",
       "\t  996 & University of the Algarve                          & Portugal       &  7 & 367 & 567 & 218 & 926 & 845 & 812 & 969 & 816 & 44.03 & 2015\\\\\n",
       "\t  997 & Alexandria University                              & Egypt          &  4 & 236 & 566 & 218 & 997 & 908 & 645 & 981 & 871 & 44.03 & 2015\\\\\n",
       "\t  998 & Federal University of Ceará                        & Brazil         & 18 & 367 & 549 & 218 & 830 & 823 & 812 & 975 & 824 & 44.03 & 2015\\\\\n",
       "\t  999 & University of A Coruña                             & Spain          & 40 & 367 & 567 & 218 & 886 & 974 & 812 & 975 & 651 & 44.02 & 2015\\\\\n",
       "\t 1000 & China Pharmaceutical University                    & China          & 83 & 367 & 567 & 218 & 861 & 991 & 812 & 981 & 547 & 44.02 & 2015\\\\\n",
       "\\end{tabular}\n"
      ],
      "text/markdown": [
       "\n",
       "A spec_tbl_df: 2200 × 14\n",
       "\n",
       "| world_rank &lt;dbl&gt; | institution &lt;chr&gt; | country &lt;chr&gt; | national_rank &lt;dbl&gt; | quality_of_education &lt;dbl&gt; | alumni_employment &lt;dbl&gt; | quality_of_faculty &lt;dbl&gt; | publications &lt;dbl&gt; | influence &lt;dbl&gt; | citations &lt;dbl&gt; | broad_impact &lt;dbl&gt; | patents &lt;dbl&gt; | score &lt;dbl&gt; | year &lt;dbl&gt; |\n",
       "|---|---|---|---|---|---|---|---|---|---|---|---|---|---|\n",
       "|  1 | Harvard University                              | USA            |  1 |   7 |   9 |  1 |   1 |  1 |   1 | NA |   5 | 100.00 | 2012 |\n",
       "|  2 | Massachusetts Institute of Technology           | USA            |  2 |   9 |  17 |  3 |  12 |  4 |   4 | NA |   1 |  91.67 | 2012 |\n",
       "|  3 | Stanford University                             | USA            |  3 |  17 |  11 |  5 |   4 |  2 |   2 | NA |  15 |  89.50 | 2012 |\n",
       "|  4 | University of Cambridge                         | United Kingdom |  1 |  10 |  24 |  4 |  16 | 16 |  11 | NA |  50 |  86.17 | 2012 |\n",
       "|  5 | California Institute of Technology              | USA            |  4 |   2 |  29 |  7 |  37 | 22 |  22 | NA |  18 |  85.21 | 2012 |\n",
       "|  6 | Princeton University                            | USA            |  5 |   8 |  14 |  2 |  53 | 33 |  26 | NA | 101 |  82.50 | 2012 |\n",
       "|  7 | University of Oxford                            | United Kingdom |  2 |  13 |  28 |  9 |  15 | 13 |  19 | NA |  26 |  82.34 | 2012 |\n",
       "|  8 | Yale University                                 | USA            |  6 |  14 |  31 | 12 |  14 |  6 |  15 | NA |  66 |  79.14 | 2012 |\n",
       "|  9 | Columbia University                             | USA            |  7 |  23 |  21 | 10 |  13 | 12 |  14 | NA |   5 |  78.86 | 2012 |\n",
       "| 10 | University of California, Berkeley              | USA            |  8 |  16 |  52 |  6 |   6 |  5 |   3 | NA |  16 |  78.55 | 2012 |\n",
       "| 11 | University of Chicago                           | USA            |  9 |  15 |  26 |  8 |  34 | 20 |  28 | NA | 101 |  73.82 | 2012 |\n",
       "| 12 | Cornell University                              | USA            | 10 |  21 |  42 | 14 |  22 | 21 |  16 | NA |  10 |  73.69 | 2012 |\n",
       "| 13 | University of Pennsylvania                      | USA            | 11 |  31 |  16 | 24 |   9 | 10 |   8 | NA |   9 |  73.64 | 2012 |\n",
       "| 14 | University of Tokyo                             | Japan          |  1 |  32 |  19 | 31 |   8 | 19 |  23 | NA |   3 |  69.49 | 2012 |\n",
       "| 15 | Johns Hopkins University                        | USA            | 12 |  34 |  77 | 20 |  11 |  9 |   9 | NA |   7 |  66.94 | 2012 |\n",
       "| 16 | Swiss Federal Institute of Technology in Zurich | Switzerland    |  1 |  26 |  66 | 11 |  40 | 51 |  44 | NA |  34 |  66.69 | 2012 |\n",
       "| 17 | Kyoto University                                | Japan          |  2 |  42 |  38 | 19 |  25 | 36 |  43 | NA |  23 |  65.76 | 2012 |\n",
       "| 18 | Weizmann Institute of Science                   | Israel         |  1 |   4 | 101 | 22 | 101 | 67 | 101 | NA |  29 |  65.09 | 2012 |\n",
       "| 19 | University of California, Los Angeles           | USA            | 13 |  62 |  59 | 23 |   3 | 11 |   6 | NA |  13 |  64.05 | 2012 |\n",
       "| 20 | University of California, San Diego             | USA            | 14 |  61 | 101 | 15 |  10 |  8 |  10 | NA |  22 |  63.11 | 2012 |\n",
       "| 21 | Rockefeller University                          | USA            | 15 |   1 | 101 | 16 | 101 | 28 |  96 | NA | 101 |  61.74 | 2012 |\n",
       "| 22 | Hebrew University of Jerusalem                  | Israel         |  2 |  24 |  93 | 13 | 101 | 91 | 101 | NA |  28 |  60.76 | 2012 |\n",
       "| 23 | New York University                             | USA            | 16 |  89 |  75 | 17 |  42 | 24 |  34 | NA |  62 |  60.55 | 2012 |\n",
       "| 24 | University of California, San Francisco         | USA            | 17 | 101 | 101 | 21 |  19 |  3 |  13 | NA |  33 |  59.70 | 2012 |\n",
       "| 25 | University of Wisconsin–Madison                 | USA            | 18 |  64 |  63 | 33 |  17 | 30 |  21 | NA |  21 |  59.66 | 2012 |\n",
       "| 26 | University of Illinois at Urbana–Champaign      | USA            | 19 |  82 | 101 | 18 |  35 | 71 |  39 | NA |  44 |  59.00 | 2012 |\n",
       "| 27 | Duke University                                 | USA            | 20 |  65 |  43 | 55 |  20 | 15 |  12 | NA |  20 |  58.37 | 2012 |\n",
       "| 28 | Imperial College London                         | United Kingdom |  3 |  84 |  73 | 35 |  26 | 26 |  29 | NA |  41 |  57.53 | 2012 |\n",
       "| 29 | University of Texas Southwestern Medical Center | USA            | 21 |  19 | 101 | 32 | 101 | 43 |  84 | NA | 101 |  56.43 | 2012 |\n",
       "| 30 | University of Texas at Austin                   | USA            | 22 | 101 |  78 | 27 |  41 | 47 |  40 | NA |  57 |  56.18 | 2012 |\n",
       "| ⋮ | ⋮ | ⋮ | ⋮ | ⋮ | ⋮ | ⋮ | ⋮ | ⋮ | ⋮ | ⋮ | ⋮ | ⋮ | ⋮ |\n",
       "|  971 | Fu Jen Catholic University                         | Taiwan         | 19 | 367 | 446 | 218 | 984 | 887 | 812 | 958 | 824 | 44.06 | 2015 |\n",
       "|  972 | Hunan Normal University                            | China          | 74 | 367 | 567 | 218 | 923 | 917 | 812 | 932 | 871 | 44.06 | 2015 |\n",
       "|  973 | Ulsan National Institute of Science and Technology | South Korea    | 36 | 367 | 567 | 218 | 880 | 912 | 645 | 984 | 349 | 44.06 | 2015 |\n",
       "|  974 | Federal University of Santa Maria                  | Brazil         | 16 | 367 | 396 | 218 | 954 | 974 | 812 | 975 | 871 | 44.05 | 2015 |\n",
       "|  975 | Shenzhen University                                | China          | 75 | 367 | 410 | 218 | 976 | 778 | 645 | 999 | 318 | 44.05 | 2015 |\n",
       "|  976 | Tianjin Medical University                         | China          | 76 | 367 | 567 | 218 | 885 | 857 | 812 | 946 | 839 | 44.05 | 2015 |\n",
       "|  977 | Beijing University of Technology                   | China          | 77 | 367 | 567 | 218 | 780 | 950 | 812 | 969 | 512 | 44.05 | 2015 |\n",
       "|  978 | University of Reims Champagne-Ardenne              | France         | 48 | 367 | 567 | 218 | 967 | 884 | 645 | 958 | 544 | 44.05 | 2015 |\n",
       "|  979 | Yuan Ze University                                 | Taiwan         | 20 | 367 | 567 | 218 | 923 | 984 | 812 | 946 | 871 | 44.05 | 2015 |\n",
       "|  980 | University of Chemistry and Technology, Prague     | Czech Republic |  5 | 367 | 567 | 218 | 991 | 868 | 812 | 946 | 778 | 44.05 | 2015 |\n",
       "|  981 | University of Limerick                             | Ireland        |  8 | 367 | 529 | 218 | 892 | 863 | 812 | 969 | 516 | 44.05 | 2015 |\n",
       "|  982 | China Medical University (PRC)                     | China          | 78 | 367 | 567 | 218 | 804 | 749 | 645 | 958 | 871 | 44.04 | 2015 |\n",
       "|  983 | Feng Chia University                               | Taiwan         | 21 | 367 | 434 | 218 | 902 | 991 | 812 | 975 | 871 | 44.04 | 2015 |\n",
       "|  984 | Zhejiang University of Technology                  | China          | 79 | 367 | 567 | 218 | 858 | 991 | 812 | 958 | 672 | 44.04 | 2015 |\n",
       "|  985 | Novosibirsk State University                       | Russia         |  5 | 167 | 567 | 218 | 819 | 858 | 645 | 991 | 871 | 44.04 | 2015 |\n",
       "|  986 | University of Bucharest                            | Romania        |  1 | 237 | 567 | 218 | 845 | 804 | 645 | 975 | 871 | 44.04 | 2015 |\n",
       "|  987 | Babeș-Bolyai University                            | Romania        |  2 | 367 | 567 | 218 | 874 | 855 | 812 | 958 | 871 | 44.04 | 2015 |\n",
       "|  988 | Mansoura University                                | Egypt          |  3 | 367 | 567 | 218 | 987 | 969 | 645 | 958 | 871 | 44.04 | 2015 |\n",
       "|  989 | University of Pau and Pays de l'Adour              | France         | 49 | 367 | 567 | 218 | 980 | 991 | 812 | 958 | 809 | 44.04 | 2015 |\n",
       "|  990 | Henan Normal University                            | China          | 80 | 367 | 567 | 218 | 959 | 991 | 812 | 958 | 871 | 44.04 | 2015 |\n",
       "|  991 | Xidian University                                  | China          | 81 | 367 | 542 | 218 | 830 | 974 | 812 | 984 | 434 | 44.03 | 2015 |\n",
       "|  992 | Federal University of Bahia                        | Brazil         | 17 | 367 | 540 | 218 | 962 | 865 | 645 | 969 | 774 | 44.03 | 2015 |\n",
       "|  993 | Southwest Jiaotong University                      | China          | 82 | 367 | 327 | 218 | 937 | 962 | 812 | 998 | 861 | 44.03 | 2015 |\n",
       "|  994 | Ryerson University                                 | Canada         | 33 | 367 | 567 | 218 | 811 | 969 | 511 | 975 | 756 | 44.03 | 2015 |\n",
       "|  995 | King Abdulaziz University                          | Saudi Arabia   |  4 | 367 | 449 | 218 | 595 | 430 | 645 | 994 | 839 | 44.03 | 2015 |\n",
       "|  996 | University of the Algarve                          | Portugal       |  7 | 367 | 567 | 218 | 926 | 845 | 812 | 969 | 816 | 44.03 | 2015 |\n",
       "|  997 | Alexandria University                              | Egypt          |  4 | 236 | 566 | 218 | 997 | 908 | 645 | 981 | 871 | 44.03 | 2015 |\n",
       "|  998 | Federal University of Ceará                        | Brazil         | 18 | 367 | 549 | 218 | 830 | 823 | 812 | 975 | 824 | 44.03 | 2015 |\n",
       "|  999 | University of A Coruña                             | Spain          | 40 | 367 | 567 | 218 | 886 | 974 | 812 | 975 | 651 | 44.02 | 2015 |\n",
       "| 1000 | China Pharmaceutical University                    | China          | 83 | 367 | 567 | 218 | 861 | 991 | 812 | 981 | 547 | 44.02 | 2015 |\n",
       "\n"
      ],
      "text/plain": [
       "     world_rank institution                                       \n",
       "1     1         Harvard University                                \n",
       "2     2         Massachusetts Institute of Technology             \n",
       "3     3         Stanford University                               \n",
       "4     4         University of Cambridge                           \n",
       "5     5         California Institute of Technology                \n",
       "6     6         Princeton University                              \n",
       "7     7         University of Oxford                              \n",
       "8     8         Yale University                                   \n",
       "9     9         Columbia University                               \n",
       "10   10         University of California, Berkeley                \n",
       "11   11         University of Chicago                             \n",
       "12   12         Cornell University                                \n",
       "13   13         University of Pennsylvania                        \n",
       "14   14         University of Tokyo                               \n",
       "15   15         Johns Hopkins University                          \n",
       "16   16         Swiss Federal Institute of Technology in Zurich   \n",
       "17   17         Kyoto University                                  \n",
       "18   18         Weizmann Institute of Science                     \n",
       "19   19         University of California, Los Angeles             \n",
       "20   20         University of California, San Diego               \n",
       "21   21         Rockefeller University                            \n",
       "22   22         Hebrew University of Jerusalem                    \n",
       "23   23         New York University                               \n",
       "24   24         University of California, San Francisco           \n",
       "25   25         University of Wisconsin–Madison                   \n",
       "26   26         University of Illinois at Urbana–Champaign        \n",
       "27   27         Duke University                                   \n",
       "28   28         Imperial College London                           \n",
       "29   29         University of Texas Southwestern Medical Center   \n",
       "30   30         University of Texas at Austin                     \n",
       "⋮    ⋮          ⋮                                                 \n",
       "2171  971       Fu Jen Catholic University                        \n",
       "2172  972       Hunan Normal University                           \n",
       "2173  973       Ulsan National Institute of Science and Technology\n",
       "2174  974       Federal University of Santa Maria                 \n",
       "2175  975       Shenzhen University                               \n",
       "2176  976       Tianjin Medical University                        \n",
       "2177  977       Beijing University of Technology                  \n",
       "2178  978       University of Reims Champagne-Ardenne             \n",
       "2179  979       Yuan Ze University                                \n",
       "2180  980       University of Chemistry and Technology, Prague    \n",
       "2181  981       University of Limerick                            \n",
       "2182  982       China Medical University (PRC)                    \n",
       "2183  983       Feng Chia University                              \n",
       "2184  984       Zhejiang University of Technology                 \n",
       "2185  985       Novosibirsk State University                      \n",
       "2186  986       University of Bucharest                           \n",
       "2187  987       Babeș-Bolyai University                           \n",
       "2188  988       Mansoura University                               \n",
       "2189  989       University of Pau and Pays de l'Adour             \n",
       "2190  990       Henan Normal University                           \n",
       "2191  991       Xidian University                                 \n",
       "2192  992       Federal University of Bahia                       \n",
       "2193  993       Southwest Jiaotong University                     \n",
       "2194  994       Ryerson University                                \n",
       "2195  995       King Abdulaziz University                         \n",
       "2196  996       University of the Algarve                         \n",
       "2197  997       Alexandria University                             \n",
       "2198  998       Federal University of Ceará                       \n",
       "2199  999       University of A Coruña                            \n",
       "2200 1000       China Pharmaceutical University                   \n",
       "     country        national_rank quality_of_education alumni_employment\n",
       "1    USA             1              7                    9              \n",
       "2    USA             2              9                   17              \n",
       "3    USA             3             17                   11              \n",
       "4    United Kingdom  1             10                   24              \n",
       "5    USA             4              2                   29              \n",
       "6    USA             5              8                   14              \n",
       "7    United Kingdom  2             13                   28              \n",
       "8    USA             6             14                   31              \n",
       "9    USA             7             23                   21              \n",
       "10   USA             8             16                   52              \n",
       "11   USA             9             15                   26              \n",
       "12   USA            10             21                   42              \n",
       "13   USA            11             31                   16              \n",
       "14   Japan           1             32                   19              \n",
       "15   USA            12             34                   77              \n",
       "16   Switzerland     1             26                   66              \n",
       "17   Japan           2             42                   38              \n",
       "18   Israel          1              4                  101              \n",
       "19   USA            13             62                   59              \n",
       "20   USA            14             61                  101              \n",
       "21   USA            15              1                  101              \n",
       "22   Israel          2             24                   93              \n",
       "23   USA            16             89                   75              \n",
       "24   USA            17            101                  101              \n",
       "25   USA            18             64                   63              \n",
       "26   USA            19             82                  101              \n",
       "27   USA            20             65                   43              \n",
       "28   United Kingdom  3             84                   73              \n",
       "29   USA            21             19                  101              \n",
       "30   USA            22            101                   78              \n",
       "⋮    ⋮              ⋮             ⋮                    ⋮                \n",
       "2171 Taiwan         19            367                  446              \n",
       "2172 China          74            367                  567              \n",
       "2173 South Korea    36            367                  567              \n",
       "2174 Brazil         16            367                  396              \n",
       "2175 China          75            367                  410              \n",
       "2176 China          76            367                  567              \n",
       "2177 China          77            367                  567              \n",
       "2178 France         48            367                  567              \n",
       "2179 Taiwan         20            367                  567              \n",
       "2180 Czech Republic  5            367                  567              \n",
       "2181 Ireland         8            367                  529              \n",
       "2182 China          78            367                  567              \n",
       "2183 Taiwan         21            367                  434              \n",
       "2184 China          79            367                  567              \n",
       "2185 Russia          5            167                  567              \n",
       "2186 Romania         1            237                  567              \n",
       "2187 Romania         2            367                  567              \n",
       "2188 Egypt           3            367                  567              \n",
       "2189 France         49            367                  567              \n",
       "2190 China          80            367                  567              \n",
       "2191 China          81            367                  542              \n",
       "2192 Brazil         17            367                  540              \n",
       "2193 China          82            367                  327              \n",
       "2194 Canada         33            367                  567              \n",
       "2195 Saudi Arabia    4            367                  449              \n",
       "2196 Portugal        7            367                  567              \n",
       "2197 Egypt           4            236                  566              \n",
       "2198 Brazil         18            367                  549              \n",
       "2199 Spain          40            367                  567              \n",
       "2200 China          83            367                  567              \n",
       "     quality_of_faculty publications influence citations broad_impact patents\n",
       "1     1                   1           1          1       NA             5    \n",
       "2     3                  12           4          4       NA             1    \n",
       "3     5                   4           2          2       NA            15    \n",
       "4     4                  16          16         11       NA            50    \n",
       "5     7                  37          22         22       NA            18    \n",
       "6     2                  53          33         26       NA           101    \n",
       "7     9                  15          13         19       NA            26    \n",
       "8    12                  14           6         15       NA            66    \n",
       "9    10                  13          12         14       NA             5    \n",
       "10    6                   6           5          3       NA            16    \n",
       "11    8                  34          20         28       NA           101    \n",
       "12   14                  22          21         16       NA            10    \n",
       "13   24                   9          10          8       NA             9    \n",
       "14   31                   8          19         23       NA             3    \n",
       "15   20                  11           9          9       NA             7    \n",
       "16   11                  40          51         44       NA            34    \n",
       "17   19                  25          36         43       NA            23    \n",
       "18   22                 101          67        101       NA            29    \n",
       "19   23                   3          11          6       NA            13    \n",
       "20   15                  10           8         10       NA            22    \n",
       "21   16                 101          28         96       NA           101    \n",
       "22   13                 101          91        101       NA            28    \n",
       "23   17                  42          24         34       NA            62    \n",
       "24   21                  19           3         13       NA            33    \n",
       "25   33                  17          30         21       NA            21    \n",
       "26   18                  35          71         39       NA            44    \n",
       "27   55                  20          15         12       NA            20    \n",
       "28   35                  26          26         29       NA            41    \n",
       "29   32                 101          43         84       NA           101    \n",
       "30   27                  41          47         40       NA            57    \n",
       "⋮    ⋮                  ⋮            ⋮         ⋮         ⋮            ⋮      \n",
       "2171 218                984          887       812       958          824    \n",
       "2172 218                923          917       812       932          871    \n",
       "2173 218                880          912       645       984          349    \n",
       "2174 218                954          974       812       975          871    \n",
       "2175 218                976          778       645       999          318    \n",
       "2176 218                885          857       812       946          839    \n",
       "2177 218                780          950       812       969          512    \n",
       "2178 218                967          884       645       958          544    \n",
       "2179 218                923          984       812       946          871    \n",
       "2180 218                991          868       812       946          778    \n",
       "2181 218                892          863       812       969          516    \n",
       "2182 218                804          749       645       958          871    \n",
       "2183 218                902          991       812       975          871    \n",
       "2184 218                858          991       812       958          672    \n",
       "2185 218                819          858       645       991          871    \n",
       "2186 218                845          804       645       975          871    \n",
       "2187 218                874          855       812       958          871    \n",
       "2188 218                987          969       645       958          871    \n",
       "2189 218                980          991       812       958          809    \n",
       "2190 218                959          991       812       958          871    \n",
       "2191 218                830          974       812       984          434    \n",
       "2192 218                962          865       645       969          774    \n",
       "2193 218                937          962       812       998          861    \n",
       "2194 218                811          969       511       975          756    \n",
       "2195 218                595          430       645       994          839    \n",
       "2196 218                926          845       812       969          816    \n",
       "2197 218                997          908       645       981          871    \n",
       "2198 218                830          823       812       975          824    \n",
       "2199 218                886          974       812       975          651    \n",
       "2200 218                861          991       812       981          547    \n",
       "     score  year\n",
       "1    100.00 2012\n",
       "2     91.67 2012\n",
       "3     89.50 2012\n",
       "4     86.17 2012\n",
       "5     85.21 2012\n",
       "6     82.50 2012\n",
       "7     82.34 2012\n",
       "8     79.14 2012\n",
       "9     78.86 2012\n",
       "10    78.55 2012\n",
       "11    73.82 2012\n",
       "12    73.69 2012\n",
       "13    73.64 2012\n",
       "14    69.49 2012\n",
       "15    66.94 2012\n",
       "16    66.69 2012\n",
       "17    65.76 2012\n",
       "18    65.09 2012\n",
       "19    64.05 2012\n",
       "20    63.11 2012\n",
       "21    61.74 2012\n",
       "22    60.76 2012\n",
       "23    60.55 2012\n",
       "24    59.70 2012\n",
       "25    59.66 2012\n",
       "26    59.00 2012\n",
       "27    58.37 2012\n",
       "28    57.53 2012\n",
       "29    56.43 2012\n",
       "30    56.18 2012\n",
       "⋮    ⋮      ⋮   \n",
       "2171 44.06  2015\n",
       "2172 44.06  2015\n",
       "2173 44.06  2015\n",
       "2174 44.05  2015\n",
       "2175 44.05  2015\n",
       "2176 44.05  2015\n",
       "2177 44.05  2015\n",
       "2178 44.05  2015\n",
       "2179 44.05  2015\n",
       "2180 44.05  2015\n",
       "2181 44.05  2015\n",
       "2182 44.04  2015\n",
       "2183 44.04  2015\n",
       "2184 44.04  2015\n",
       "2185 44.04  2015\n",
       "2186 44.04  2015\n",
       "2187 44.04  2015\n",
       "2188 44.04  2015\n",
       "2189 44.04  2015\n",
       "2190 44.04  2015\n",
       "2191 44.03  2015\n",
       "2192 44.03  2015\n",
       "2193 44.03  2015\n",
       "2194 44.03  2015\n",
       "2195 44.03  2015\n",
       "2196 44.03  2015\n",
       "2197 44.03  2015\n",
       "2198 44.03  2015\n",
       "2199 44.02  2015\n",
       "2200 44.02  2015"
      ]
     },
     "metadata": {},
     "output_type": "display_data"
    }
   ],
   "source": [
    "# Your turn: print out the data we just imported\n",
    "\n",
    "### BEGIN SOLUTION ###\n",
    "\n",
    "university_df\n",
    "\n",
    "### END SOLUTION ###"
   ]
  },
  {
   "cell_type": "code",
   "execution_count": 16,
   "id": "186af37e-b762-4778-861d-266723961eff",
   "metadata": {},
   "outputs": [
    {
     "name": "stdout",
     "output_type": "stream",
     "text": [
      "\u001b[32mTest passed\u001b[39m 🥳\n"
     ]
    }
   ],
   "source": [
    "test_that(\"university data is read in correctly\", {\n",
    "  expect_equal(nrow(university_df), 2200)\n",
    "})"
   ]
  },
  {
   "cell_type": "markdown",
   "id": "80da089d-6ed2-4907-b8e8-27a2412481c5",
   "metadata": {},
   "source": [
    "Woah! That's a lot of data. Perhaps there's a way we could print slightly _less_ information?"
   ]
  },
  {
   "cell_type": "code",
   "execution_count": 17,
   "id": "8f2b9fc5-3d2e-4c41-a2fe-2594392240c5",
   "metadata": {},
   "outputs": [
    {
     "data": {
      "text/html": [
       "<table class=\"dataframe\">\n",
       "<caption>A tibble: 6 × 14</caption>\n",
       "<thead>\n",
       "\t<tr><th scope=col>world_rank</th><th scope=col>institution</th><th scope=col>country</th><th scope=col>national_rank</th><th scope=col>quality_of_education</th><th scope=col>alumni_employment</th><th scope=col>quality_of_faculty</th><th scope=col>publications</th><th scope=col>influence</th><th scope=col>citations</th><th scope=col>broad_impact</th><th scope=col>patents</th><th scope=col>score</th><th scope=col>year</th></tr>\n",
       "\t<tr><th scope=col>&lt;dbl&gt;</th><th scope=col>&lt;chr&gt;</th><th scope=col>&lt;chr&gt;</th><th scope=col>&lt;dbl&gt;</th><th scope=col>&lt;dbl&gt;</th><th scope=col>&lt;dbl&gt;</th><th scope=col>&lt;dbl&gt;</th><th scope=col>&lt;dbl&gt;</th><th scope=col>&lt;dbl&gt;</th><th scope=col>&lt;dbl&gt;</th><th scope=col>&lt;dbl&gt;</th><th scope=col>&lt;dbl&gt;</th><th scope=col>&lt;dbl&gt;</th><th scope=col>&lt;dbl&gt;</th></tr>\n",
       "</thead>\n",
       "<tbody>\n",
       "\t<tr><td>1</td><td>Harvard University                   </td><td>USA           </td><td>1</td><td> 7</td><td> 9</td><td>1</td><td> 1</td><td> 1</td><td> 1</td><td>NA</td><td>  5</td><td>100.00</td><td>2012</td></tr>\n",
       "\t<tr><td>2</td><td>Massachusetts Institute of Technology</td><td>USA           </td><td>2</td><td> 9</td><td>17</td><td>3</td><td>12</td><td> 4</td><td> 4</td><td>NA</td><td>  1</td><td> 91.67</td><td>2012</td></tr>\n",
       "\t<tr><td>3</td><td>Stanford University                  </td><td>USA           </td><td>3</td><td>17</td><td>11</td><td>5</td><td> 4</td><td> 2</td><td> 2</td><td>NA</td><td> 15</td><td> 89.50</td><td>2012</td></tr>\n",
       "\t<tr><td>4</td><td>University of Cambridge              </td><td>United Kingdom</td><td>1</td><td>10</td><td>24</td><td>4</td><td>16</td><td>16</td><td>11</td><td>NA</td><td> 50</td><td> 86.17</td><td>2012</td></tr>\n",
       "\t<tr><td>5</td><td>California Institute of Technology   </td><td>USA           </td><td>4</td><td> 2</td><td>29</td><td>7</td><td>37</td><td>22</td><td>22</td><td>NA</td><td> 18</td><td> 85.21</td><td>2012</td></tr>\n",
       "\t<tr><td>6</td><td>Princeton University                 </td><td>USA           </td><td>5</td><td> 8</td><td>14</td><td>2</td><td>53</td><td>33</td><td>26</td><td>NA</td><td>101</td><td> 82.50</td><td>2012</td></tr>\n",
       "</tbody>\n",
       "</table>\n"
      ],
      "text/latex": [
       "A tibble: 6 × 14\n",
       "\\begin{tabular}{llllllllllllll}\n",
       " world\\_rank & institution & country & national\\_rank & quality\\_of\\_education & alumni\\_employment & quality\\_of\\_faculty & publications & influence & citations & broad\\_impact & patents & score & year\\\\\n",
       " <dbl> & <chr> & <chr> & <dbl> & <dbl> & <dbl> & <dbl> & <dbl> & <dbl> & <dbl> & <dbl> & <dbl> & <dbl> & <dbl>\\\\\n",
       "\\hline\n",
       "\t 1 & Harvard University                    & USA            & 1 &  7 &  9 & 1 &  1 &  1 &  1 & NA &   5 & 100.00 & 2012\\\\\n",
       "\t 2 & Massachusetts Institute of Technology & USA            & 2 &  9 & 17 & 3 & 12 &  4 &  4 & NA &   1 &  91.67 & 2012\\\\\n",
       "\t 3 & Stanford University                   & USA            & 3 & 17 & 11 & 5 &  4 &  2 &  2 & NA &  15 &  89.50 & 2012\\\\\n",
       "\t 4 & University of Cambridge               & United Kingdom & 1 & 10 & 24 & 4 & 16 & 16 & 11 & NA &  50 &  86.17 & 2012\\\\\n",
       "\t 5 & California Institute of Technology    & USA            & 4 &  2 & 29 & 7 & 37 & 22 & 22 & NA &  18 &  85.21 & 2012\\\\\n",
       "\t 6 & Princeton University                  & USA            & 5 &  8 & 14 & 2 & 53 & 33 & 26 & NA & 101 &  82.50 & 2012\\\\\n",
       "\\end{tabular}\n"
      ],
      "text/markdown": [
       "\n",
       "A tibble: 6 × 14\n",
       "\n",
       "| world_rank &lt;dbl&gt; | institution &lt;chr&gt; | country &lt;chr&gt; | national_rank &lt;dbl&gt; | quality_of_education &lt;dbl&gt; | alumni_employment &lt;dbl&gt; | quality_of_faculty &lt;dbl&gt; | publications &lt;dbl&gt; | influence &lt;dbl&gt; | citations &lt;dbl&gt; | broad_impact &lt;dbl&gt; | patents &lt;dbl&gt; | score &lt;dbl&gt; | year &lt;dbl&gt; |\n",
       "|---|---|---|---|---|---|---|---|---|---|---|---|---|---|\n",
       "| 1 | Harvard University                    | USA            | 1 |  7 |  9 | 1 |  1 |  1 |  1 | NA |   5 | 100.00 | 2012 |\n",
       "| 2 | Massachusetts Institute of Technology | USA            | 2 |  9 | 17 | 3 | 12 |  4 |  4 | NA |   1 |  91.67 | 2012 |\n",
       "| 3 | Stanford University                   | USA            | 3 | 17 | 11 | 5 |  4 |  2 |  2 | NA |  15 |  89.50 | 2012 |\n",
       "| 4 | University of Cambridge               | United Kingdom | 1 | 10 | 24 | 4 | 16 | 16 | 11 | NA |  50 |  86.17 | 2012 |\n",
       "| 5 | California Institute of Technology    | USA            | 4 |  2 | 29 | 7 | 37 | 22 | 22 | NA |  18 |  85.21 | 2012 |\n",
       "| 6 | Princeton University                  | USA            | 5 |  8 | 14 | 2 | 53 | 33 | 26 | NA | 101 |  82.50 | 2012 |\n",
       "\n"
      ],
      "text/plain": [
       "  world_rank institution                           country        national_rank\n",
       "1 1          Harvard University                    USA            1            \n",
       "2 2          Massachusetts Institute of Technology USA            2            \n",
       "3 3          Stanford University                   USA            3            \n",
       "4 4          University of Cambridge               United Kingdom 1            \n",
       "5 5          California Institute of Technology    USA            4            \n",
       "6 6          Princeton University                  USA            5            \n",
       "  quality_of_education alumni_employment quality_of_faculty publications\n",
       "1  7                    9                1                   1          \n",
       "2  9                   17                3                  12          \n",
       "3 17                   11                5                   4          \n",
       "4 10                   24                4                  16          \n",
       "5  2                   29                7                  37          \n",
       "6  8                   14                2                  53          \n",
       "  influence citations broad_impact patents score  year\n",
       "1  1         1        NA             5     100.00 2012\n",
       "2  4         4        NA             1      91.67 2012\n",
       "3  2         2        NA            15      89.50 2012\n",
       "4 16        11        NA            50      86.17 2012\n",
       "5 22        22        NA            18      85.21 2012\n",
       "6 33        26        NA           101      82.50 2012"
      ]
     },
     "metadata": {},
     "output_type": "display_data"
    }
   ],
   "source": [
    "# Your turn: print only the first six rows of the data set by calling the \"head\" function (from the tidyverse library) with university_df as th one and only argument.\n",
    "\n",
    "### BEGIN SOLUTION ###\n",
    "\n",
    "head(university_df)\n",
    "\n",
    "### END SOLUTION ###"
   ]
  },
  {
   "cell_type": "code",
   "execution_count": 18,
   "id": "366ed502-843d-4176-a3b5-b6b0fd78ef00",
   "metadata": {},
   "outputs": [
    {
     "name": "stderr",
     "output_type": "stream",
     "text": [
      "\u001b[1m\u001b[1mRows: \u001b[1m\u001b[22m\u001b[34m\u001b[34m272\u001b[34m\u001b[39m \u001b[1m\u001b[1mColumns: \u001b[1m\u001b[22m\u001b[34m\u001b[34m2\u001b[34m\u001b[39m\n",
      "\n",
      "\u001b[36m──\u001b[39m \u001b[1m\u001b[1mColumn specification\u001b[1m\u001b[22m \u001b[36m───────────────────────────────────────────────────────────────────────────────\u001b[39m\n",
      "\u001b[1mDelimiter:\u001b[22m \",\"\n",
      "\u001b[32mdbl\u001b[39m (2): eruptions, waiting\n",
      "\n",
      "\n",
      "\u001b[36mℹ\u001b[39m Use \u001b[30m\u001b[47m\u001b[30m\u001b[47m`spec()`\u001b[47m\u001b[30m\u001b[49m\u001b[39m to retrieve the full column specification for this data.\n",
      "\u001b[36mℹ\u001b[39m Specify the column types or set \u001b[30m\u001b[47m\u001b[30m\u001b[47m`show_col_types = FALSE`\u001b[47m\u001b[30m\u001b[49m\u001b[39m to quiet this message.\n",
      "\n"
     ]
    },
    {
     "data": {
      "text/html": [
       "<table class=\"dataframe\">\n",
       "<caption>A tibble: 6 × 2</caption>\n",
       "<thead>\n",
       "\t<tr><th scope=col>eruptions</th><th scope=col>waiting</th></tr>\n",
       "\t<tr><th scope=col>&lt;dbl&gt;</th><th scope=col>&lt;dbl&gt;</th></tr>\n",
       "</thead>\n",
       "<tbody>\n",
       "\t<tr><td>3.600</td><td>79</td></tr>\n",
       "\t<tr><td>1.800</td><td>54</td></tr>\n",
       "\t<tr><td>3.333</td><td>74</td></tr>\n",
       "\t<tr><td>2.283</td><td>62</td></tr>\n",
       "\t<tr><td>4.533</td><td>85</td></tr>\n",
       "\t<tr><td>2.883</td><td>55</td></tr>\n",
       "</tbody>\n",
       "</table>\n"
      ],
      "text/latex": [
       "A tibble: 6 × 2\n",
       "\\begin{tabular}{ll}\n",
       " eruptions & waiting\\\\\n",
       " <dbl> & <dbl>\\\\\n",
       "\\hline\n",
       "\t 3.600 & 79\\\\\n",
       "\t 1.800 & 54\\\\\n",
       "\t 3.333 & 74\\\\\n",
       "\t 2.283 & 62\\\\\n",
       "\t 4.533 & 85\\\\\n",
       "\t 2.883 & 55\\\\\n",
       "\\end{tabular}\n"
      ],
      "text/markdown": [
       "\n",
       "A tibble: 6 × 2\n",
       "\n",
       "| eruptions &lt;dbl&gt; | waiting &lt;dbl&gt; |\n",
       "|---|---|\n",
       "| 3.600 | 79 |\n",
       "| 1.800 | 54 |\n",
       "| 3.333 | 74 |\n",
       "| 2.283 | 62 |\n",
       "| 4.533 | 85 |\n",
       "| 2.883 | 55 |\n",
       "\n"
      ],
      "text/plain": [
       "  eruptions waiting\n",
       "1 3.600     79     \n",
       "2 1.800     54     \n",
       "3 3.333     74     \n",
       "4 2.283     62     \n",
       "5 4.533     85     \n",
       "6 2.883     55     "
      ]
     },
     "metadata": {},
     "output_type": "display_data"
    }
   ],
   "source": [
    "# Your turn: read in the data from the URL stored in \"url\" and assign it to variable called old_faithful. Print it out using head.\n",
    "# Notice that we don't need to assign column names!\n",
    "\n",
    "url <- \"https://raw.githubusercontent.com/barneygovan/from-data-with-love/master/data/faithful.csv\"\n",
    "\n",
    "### BEGIN SOLUTION ###\n",
    "\n",
    "old_faithful <- read_csv(url)\n",
    "head(old_faithful)\n",
    "\n",
    "### END SOLUTION ###"
   ]
  },
  {
   "cell_type": "code",
   "execution_count": 19,
   "id": "525be518-b5c3-47da-b904-7db2db4f81d6",
   "metadata": {},
   "outputs": [
    {
     "name": "stdout",
     "output_type": "stream",
     "text": [
      "\u001b[32mTest passed\u001b[39m 😀\n"
     ]
    }
   ],
   "source": [
    "test_that(\"old faithful data is read in correctly\", {\n",
    "  expect_equal(nrow(old_faithful), 272)\n",
    "})"
   ]
  },
  {
   "cell_type": "markdown",
   "id": "9f6bd997-d0d6-4fbd-9da4-29f7aee556b3",
   "metadata": {},
   "source": [
    "Aside from printing just the first six rows, we can also use `tail` to print the end rows."
   ]
  },
  {
   "cell_type": "code",
   "execution_count": 20,
   "id": "50171523-bef8-4ced-b8f3-29e59529e732",
   "metadata": {},
   "outputs": [
    {
     "data": {
      "text/html": [
       "<table class=\"dataframe\">\n",
       "<caption>A tibble: 6 × 14</caption>\n",
       "<thead>\n",
       "\t<tr><th scope=col>world_rank</th><th scope=col>institution</th><th scope=col>country</th><th scope=col>national_rank</th><th scope=col>quality_of_education</th><th scope=col>alumni_employment</th><th scope=col>quality_of_faculty</th><th scope=col>publications</th><th scope=col>influence</th><th scope=col>citations</th><th scope=col>broad_impact</th><th scope=col>patents</th><th scope=col>score</th><th scope=col>year</th></tr>\n",
       "\t<tr><th scope=col>&lt;dbl&gt;</th><th scope=col>&lt;chr&gt;</th><th scope=col>&lt;chr&gt;</th><th scope=col>&lt;dbl&gt;</th><th scope=col>&lt;dbl&gt;</th><th scope=col>&lt;dbl&gt;</th><th scope=col>&lt;dbl&gt;</th><th scope=col>&lt;dbl&gt;</th><th scope=col>&lt;dbl&gt;</th><th scope=col>&lt;dbl&gt;</th><th scope=col>&lt;dbl&gt;</th><th scope=col>&lt;dbl&gt;</th><th scope=col>&lt;dbl&gt;</th><th scope=col>&lt;dbl&gt;</th></tr>\n",
       "</thead>\n",
       "<tbody>\n",
       "\t<tr><td> 995</td><td>King Abdulaziz University      </td><td>Saudi Arabia</td><td> 4</td><td>367</td><td>449</td><td>218</td><td>595</td><td>430</td><td>645</td><td>994</td><td>839</td><td>44.03</td><td>2015</td></tr>\n",
       "\t<tr><td> 996</td><td>University of the Algarve      </td><td>Portugal    </td><td> 7</td><td>367</td><td>567</td><td>218</td><td>926</td><td>845</td><td>812</td><td>969</td><td>816</td><td>44.03</td><td>2015</td></tr>\n",
       "\t<tr><td> 997</td><td>Alexandria University          </td><td>Egypt       </td><td> 4</td><td>236</td><td>566</td><td>218</td><td>997</td><td>908</td><td>645</td><td>981</td><td>871</td><td>44.03</td><td>2015</td></tr>\n",
       "\t<tr><td> 998</td><td>Federal University of Ceará    </td><td>Brazil      </td><td>18</td><td>367</td><td>549</td><td>218</td><td>830</td><td>823</td><td>812</td><td>975</td><td>824</td><td>44.03</td><td>2015</td></tr>\n",
       "\t<tr><td> 999</td><td>University of A Coruña         </td><td>Spain       </td><td>40</td><td>367</td><td>567</td><td>218</td><td>886</td><td>974</td><td>812</td><td>975</td><td>651</td><td>44.02</td><td>2015</td></tr>\n",
       "\t<tr><td>1000</td><td>China Pharmaceutical University</td><td>China       </td><td>83</td><td>367</td><td>567</td><td>218</td><td>861</td><td>991</td><td>812</td><td>981</td><td>547</td><td>44.02</td><td>2015</td></tr>\n",
       "</tbody>\n",
       "</table>\n"
      ],
      "text/latex": [
       "A tibble: 6 × 14\n",
       "\\begin{tabular}{llllllllllllll}\n",
       " world\\_rank & institution & country & national\\_rank & quality\\_of\\_education & alumni\\_employment & quality\\_of\\_faculty & publications & influence & citations & broad\\_impact & patents & score & year\\\\\n",
       " <dbl> & <chr> & <chr> & <dbl> & <dbl> & <dbl> & <dbl> & <dbl> & <dbl> & <dbl> & <dbl> & <dbl> & <dbl> & <dbl>\\\\\n",
       "\\hline\n",
       "\t  995 & King Abdulaziz University       & Saudi Arabia &  4 & 367 & 449 & 218 & 595 & 430 & 645 & 994 & 839 & 44.03 & 2015\\\\\n",
       "\t  996 & University of the Algarve       & Portugal     &  7 & 367 & 567 & 218 & 926 & 845 & 812 & 969 & 816 & 44.03 & 2015\\\\\n",
       "\t  997 & Alexandria University           & Egypt        &  4 & 236 & 566 & 218 & 997 & 908 & 645 & 981 & 871 & 44.03 & 2015\\\\\n",
       "\t  998 & Federal University of Ceará     & Brazil       & 18 & 367 & 549 & 218 & 830 & 823 & 812 & 975 & 824 & 44.03 & 2015\\\\\n",
       "\t  999 & University of A Coruña          & Spain        & 40 & 367 & 567 & 218 & 886 & 974 & 812 & 975 & 651 & 44.02 & 2015\\\\\n",
       "\t 1000 & China Pharmaceutical University & China        & 83 & 367 & 567 & 218 & 861 & 991 & 812 & 981 & 547 & 44.02 & 2015\\\\\n",
       "\\end{tabular}\n"
      ],
      "text/markdown": [
       "\n",
       "A tibble: 6 × 14\n",
       "\n",
       "| world_rank &lt;dbl&gt; | institution &lt;chr&gt; | country &lt;chr&gt; | national_rank &lt;dbl&gt; | quality_of_education &lt;dbl&gt; | alumni_employment &lt;dbl&gt; | quality_of_faculty &lt;dbl&gt; | publications &lt;dbl&gt; | influence &lt;dbl&gt; | citations &lt;dbl&gt; | broad_impact &lt;dbl&gt; | patents &lt;dbl&gt; | score &lt;dbl&gt; | year &lt;dbl&gt; |\n",
       "|---|---|---|---|---|---|---|---|---|---|---|---|---|---|\n",
       "|  995 | King Abdulaziz University       | Saudi Arabia |  4 | 367 | 449 | 218 | 595 | 430 | 645 | 994 | 839 | 44.03 | 2015 |\n",
       "|  996 | University of the Algarve       | Portugal     |  7 | 367 | 567 | 218 | 926 | 845 | 812 | 969 | 816 | 44.03 | 2015 |\n",
       "|  997 | Alexandria University           | Egypt        |  4 | 236 | 566 | 218 | 997 | 908 | 645 | 981 | 871 | 44.03 | 2015 |\n",
       "|  998 | Federal University of Ceará     | Brazil       | 18 | 367 | 549 | 218 | 830 | 823 | 812 | 975 | 824 | 44.03 | 2015 |\n",
       "|  999 | University of A Coruña          | Spain        | 40 | 367 | 567 | 218 | 886 | 974 | 812 | 975 | 651 | 44.02 | 2015 |\n",
       "| 1000 | China Pharmaceutical University | China        | 83 | 367 | 567 | 218 | 861 | 991 | 812 | 981 | 547 | 44.02 | 2015 |\n",
       "\n"
      ],
      "text/plain": [
       "  world_rank institution                     country      national_rank\n",
       "1  995       King Abdulaziz University       Saudi Arabia  4           \n",
       "2  996       University of the Algarve       Portugal      7           \n",
       "3  997       Alexandria University           Egypt         4           \n",
       "4  998       Federal University of Ceará     Brazil       18           \n",
       "5  999       University of A Coruña          Spain        40           \n",
       "6 1000       China Pharmaceutical University China        83           \n",
       "  quality_of_education alumni_employment quality_of_faculty publications\n",
       "1 367                  449               218                595         \n",
       "2 367                  567               218                926         \n",
       "3 236                  566               218                997         \n",
       "4 367                  549               218                830         \n",
       "5 367                  567               218                886         \n",
       "6 367                  567               218                861         \n",
       "  influence citations broad_impact patents score year\n",
       "1 430       645       994          839     44.03 2015\n",
       "2 845       812       969          816     44.03 2015\n",
       "3 908       645       981          871     44.03 2015\n",
       "4 823       812       975          824     44.03 2015\n",
       "5 974       812       975          651     44.02 2015\n",
       "6 991       812       981          547     44.02 2015"
      ]
     },
     "metadata": {},
     "output_type": "display_data"
    }
   ],
   "source": [
    "## Your turn: do the same with tail. \n",
    "\n",
    "### BEGIN SOLUTION ###\n",
    "\n",
    "tail(university_df)\n",
    "\n",
    "### END SOLUTION ###"
   ]
  },
  {
   "cell_type": "markdown",
   "id": "417dea56-ff35-4bad-8bd1-3f661b645d9b",
   "metadata": {},
   "source": [
    "### Processing our data ⚒️\n",
    "\n",
    "Great, now we understand what our data looks like! To produce the result we want, we might want to reduce the scope of our analysis, or filter out bad rows. What if we want to only see data from Canadian universities, for example?\n",
    "\n",
    "To solve problems like this, we need to use filter."
   ]
  },
  {
   "cell_type": "code",
   "execution_count": 21,
   "id": "0e1e66bb-a548-47d3-8a51-a66b0e41d751",
   "metadata": {},
   "outputs": [
    {
     "data": {
      "text/html": [
       "FALSE"
      ],
      "text/latex": [
       "FALSE"
      ],
      "text/markdown": [
       "FALSE"
      ],
      "text/plain": [
       "[1] FALSE"
      ]
     },
     "metadata": {},
     "output_type": "display_data"
    },
    {
     "data": {
      "text/html": [
       "TRUE"
      ],
      "text/latex": [
       "TRUE"
      ],
      "text/markdown": [
       "TRUE"
      ],
      "text/plain": [
       "[1] TRUE"
      ]
     },
     "metadata": {},
     "output_type": "display_data"
    },
    {
     "data": {
      "text/html": [
       "TRUE"
      ],
      "text/latex": [
       "TRUE"
      ],
      "text/markdown": [
       "TRUE"
      ],
      "text/plain": [
       "[1] TRUE"
      ]
     },
     "metadata": {},
     "output_type": "display_data"
    },
    {
     "data": {
      "text/html": [
       "FALSE"
      ],
      "text/latex": [
       "FALSE"
      ],
      "text/markdown": [
       "FALSE"
      ],
      "text/plain": [
       "[1] FALSE"
      ]
     },
     "metadata": {},
     "output_type": "display_data"
    },
    {
     "data": {
      "text/html": [
       "TRUE"
      ],
      "text/latex": [
       "TRUE"
      ],
      "text/markdown": [
       "TRUE"
      ],
      "text/plain": [
       "[1] TRUE"
      ]
     },
     "metadata": {},
     "output_type": "display_data"
    },
    {
     "data": {
      "text/html": [
       "TRUE"
      ],
      "text/latex": [
       "TRUE"
      ],
      "text/markdown": [
       "TRUE"
      ],
      "text/plain": [
       "[1] TRUE"
      ]
     },
     "metadata": {},
     "output_type": "display_data"
    }
   ],
   "source": [
    "## Filter accepts two arguments. The first is your data, and the second is the condition. Conditions can be:\n",
    "## exactly equal ==\n",
    "## greater than > (or, greater than or equal to >=)\n",
    "## less than < (or, less than or equal to <=)\n",
    "\n",
    "## Conditions must produce a true or false value. Let's try working with true and false before we use filter.\n",
    "\n",
    "## Here are some example boolean values in R\n",
    "\n",
    "FALSE\n",
    "TRUE\n",
    "3 + 3 == 6\n",
    "3 + 3 != 6 # This is \"does not equal\"\n",
    "100 > 0\n",
    "0 < 100"
   ]
  },
  {
   "cell_type": "code",
   "execution_count": 22,
   "id": "0517385d-ffeb-4c53-96ec-7d918e98de17",
   "metadata": {},
   "outputs": [
    {
     "data": {
      "text/html": [
       "FALSE"
      ],
      "text/latex": [
       "FALSE"
      ],
      "text/markdown": [
       "FALSE"
      ],
      "text/plain": [
       "[1] FALSE"
      ]
     },
     "metadata": {},
     "output_type": "display_data"
    },
    {
     "data": {
      "text/html": [
       "TRUE"
      ],
      "text/latex": [
       "TRUE"
      ],
      "text/markdown": [
       "TRUE"
      ],
      "text/plain": [
       "[1] TRUE"
      ]
     },
     "metadata": {},
     "output_type": "display_data"
    }
   ],
   "source": [
    "## Your turn: print the result of 5 == 4. Print the result of 5 == 5. Notice anything interesting about true and false\n",
    "## (think: in terms of spelling, capitalization, or punctuation)\n",
    "\n",
    "### BEGIN SOLUTION ###\n",
    "\n",
    "5 == 4\n",
    "5 == 5\n",
    "\n",
    "### END SOLUTION ###"
   ]
  },
  {
   "cell_type": "code",
   "execution_count": 23,
   "id": "b077a08d-e2a2-4f7f-add4-94e33c5d0073",
   "metadata": {},
   "outputs": [
    {
     "data": {
      "text/html": [
       "FALSE"
      ],
      "text/latex": [
       "FALSE"
      ],
      "text/markdown": [
       "FALSE"
      ],
      "text/plain": [
       "[1] FALSE"
      ]
     },
     "metadata": {},
     "output_type": "display_data"
    }
   ],
   "source": [
    "## Your turn: print the result of whether or not negative one hundred is greater than zero. Save that to a variable called\n",
    "## is_colder\n",
    "\n",
    "### BEGIN SOLUTION ###\n",
    "\n",
    "is_colder <- -100 > 0\n",
    "is_colder\n",
    "\n",
    "### END SOLUTION ###"
   ]
  },
  {
   "cell_type": "code",
   "execution_count": 24,
   "id": "58673a97-1004-4c97-a0a7-40658fa3a192",
   "metadata": {},
   "outputs": [
    {
     "name": "stdout",
     "output_type": "stream",
     "text": [
      "\u001b[32mTest passed\u001b[39m 🥇\n"
     ]
    }
   ],
   "source": [
    "test_that(\"is_colder is correct\", {\n",
    "  expect_false(is_colder)\n",
    "})"
   ]
  },
  {
   "cell_type": "code",
   "execution_count": 25,
   "id": "3b574780-1f55-48c0-8a17-dd05a912f812",
   "metadata": {},
   "outputs": [
    {
     "data": {
      "text/html": [
       "<table class=\"dataframe\">\n",
       "<caption>A tibble: 6 × 14</caption>\n",
       "<thead>\n",
       "\t<tr><th scope=col>world_rank</th><th scope=col>institution</th><th scope=col>country</th><th scope=col>national_rank</th><th scope=col>quality_of_education</th><th scope=col>alumni_employment</th><th scope=col>quality_of_faculty</th><th scope=col>publications</th><th scope=col>influence</th><th scope=col>citations</th><th scope=col>broad_impact</th><th scope=col>patents</th><th scope=col>score</th><th scope=col>year</th></tr>\n",
       "\t<tr><th scope=col>&lt;dbl&gt;</th><th scope=col>&lt;chr&gt;</th><th scope=col>&lt;chr&gt;</th><th scope=col>&lt;dbl&gt;</th><th scope=col>&lt;dbl&gt;</th><th scope=col>&lt;dbl&gt;</th><th scope=col>&lt;dbl&gt;</th><th scope=col>&lt;dbl&gt;</th><th scope=col>&lt;dbl&gt;</th><th scope=col>&lt;dbl&gt;</th><th scope=col>&lt;dbl&gt;</th><th scope=col>&lt;dbl&gt;</th><th scope=col>&lt;dbl&gt;</th><th scope=col>&lt;dbl&gt;</th></tr>\n",
       "</thead>\n",
       "<tbody>\n",
       "\t<tr><td> 1</td><td>Harvard University                             </td><td>USA           </td><td>1</td><td> 7</td><td> 9</td><td> 1</td><td> 1</td><td> 1</td><td> 1</td><td>NA</td><td> 5</td><td>100.00</td><td>2012</td></tr>\n",
       "\t<tr><td> 2</td><td>Massachusetts Institute of Technology          </td><td>USA           </td><td>2</td><td> 9</td><td>17</td><td> 3</td><td>12</td><td> 4</td><td> 4</td><td>NA</td><td> 1</td><td> 91.67</td><td>2012</td></tr>\n",
       "\t<tr><td> 4</td><td>University of Cambridge                        </td><td>United Kingdom</td><td>1</td><td>10</td><td>24</td><td> 4</td><td>16</td><td>16</td><td>11</td><td>NA</td><td>50</td><td> 86.17</td><td>2012</td></tr>\n",
       "\t<tr><td> 7</td><td>University of Oxford                           </td><td>United Kingdom</td><td>2</td><td>13</td><td>28</td><td> 9</td><td>15</td><td>13</td><td>19</td><td>NA</td><td>26</td><td> 82.34</td><td>2012</td></tr>\n",
       "\t<tr><td>14</td><td>University of Tokyo                            </td><td>Japan         </td><td>1</td><td>32</td><td>19</td><td>31</td><td> 8</td><td>19</td><td>23</td><td>NA</td><td> 3</td><td> 69.49</td><td>2012</td></tr>\n",
       "\t<tr><td>16</td><td>Swiss Federal Institute of Technology in Zurich</td><td>Switzerland   </td><td>1</td><td>26</td><td>66</td><td>11</td><td>40</td><td>51</td><td>44</td><td>NA</td><td>34</td><td> 66.69</td><td>2012</td></tr>\n",
       "</tbody>\n",
       "</table>\n"
      ],
      "text/latex": [
       "A tibble: 6 × 14\n",
       "\\begin{tabular}{llllllllllllll}\n",
       " world\\_rank & institution & country & national\\_rank & quality\\_of\\_education & alumni\\_employment & quality\\_of\\_faculty & publications & influence & citations & broad\\_impact & patents & score & year\\\\\n",
       " <dbl> & <chr> & <chr> & <dbl> & <dbl> & <dbl> & <dbl> & <dbl> & <dbl> & <dbl> & <dbl> & <dbl> & <dbl> & <dbl>\\\\\n",
       "\\hline\n",
       "\t  1 & Harvard University                              & USA            & 1 &  7 &  9 &  1 &  1 &  1 &  1 & NA &  5 & 100.00 & 2012\\\\\n",
       "\t  2 & Massachusetts Institute of Technology           & USA            & 2 &  9 & 17 &  3 & 12 &  4 &  4 & NA &  1 &  91.67 & 2012\\\\\n",
       "\t  4 & University of Cambridge                         & United Kingdom & 1 & 10 & 24 &  4 & 16 & 16 & 11 & NA & 50 &  86.17 & 2012\\\\\n",
       "\t  7 & University of Oxford                            & United Kingdom & 2 & 13 & 28 &  9 & 15 & 13 & 19 & NA & 26 &  82.34 & 2012\\\\\n",
       "\t 14 & University of Tokyo                             & Japan          & 1 & 32 & 19 & 31 &  8 & 19 & 23 & NA &  3 &  69.49 & 2012\\\\\n",
       "\t 16 & Swiss Federal Institute of Technology in Zurich & Switzerland    & 1 & 26 & 66 & 11 & 40 & 51 & 44 & NA & 34 &  66.69 & 2012\\\\\n",
       "\\end{tabular}\n"
      ],
      "text/markdown": [
       "\n",
       "A tibble: 6 × 14\n",
       "\n",
       "| world_rank &lt;dbl&gt; | institution &lt;chr&gt; | country &lt;chr&gt; | national_rank &lt;dbl&gt; | quality_of_education &lt;dbl&gt; | alumni_employment &lt;dbl&gt; | quality_of_faculty &lt;dbl&gt; | publications &lt;dbl&gt; | influence &lt;dbl&gt; | citations &lt;dbl&gt; | broad_impact &lt;dbl&gt; | patents &lt;dbl&gt; | score &lt;dbl&gt; | year &lt;dbl&gt; |\n",
       "|---|---|---|---|---|---|---|---|---|---|---|---|---|---|\n",
       "|  1 | Harvard University                              | USA            | 1 |  7 |  9 |  1 |  1 |  1 |  1 | NA |  5 | 100.00 | 2012 |\n",
       "|  2 | Massachusetts Institute of Technology           | USA            | 2 |  9 | 17 |  3 | 12 |  4 |  4 | NA |  1 |  91.67 | 2012 |\n",
       "|  4 | University of Cambridge                         | United Kingdom | 1 | 10 | 24 |  4 | 16 | 16 | 11 | NA | 50 |  86.17 | 2012 |\n",
       "|  7 | University of Oxford                            | United Kingdom | 2 | 13 | 28 |  9 | 15 | 13 | 19 | NA | 26 |  82.34 | 2012 |\n",
       "| 14 | University of Tokyo                             | Japan          | 1 | 32 | 19 | 31 |  8 | 19 | 23 | NA |  3 |  69.49 | 2012 |\n",
       "| 16 | Swiss Federal Institute of Technology in Zurich | Switzerland    | 1 | 26 | 66 | 11 | 40 | 51 | 44 | NA | 34 |  66.69 | 2012 |\n",
       "\n"
      ],
      "text/plain": [
       "  world_rank institution                                     country       \n",
       "1  1         Harvard University                              USA           \n",
       "2  2         Massachusetts Institute of Technology           USA           \n",
       "3  4         University of Cambridge                         United Kingdom\n",
       "4  7         University of Oxford                            United Kingdom\n",
       "5 14         University of Tokyo                             Japan         \n",
       "6 16         Swiss Federal Institute of Technology in Zurich Switzerland   \n",
       "  national_rank quality_of_education alumni_employment quality_of_faculty\n",
       "1 1              7                    9                 1                \n",
       "2 2              9                   17                 3                \n",
       "3 1             10                   24                 4                \n",
       "4 2             13                   28                 9                \n",
       "5 1             32                   19                31                \n",
       "6 1             26                   66                11                \n",
       "  publications influence citations broad_impact patents score  year\n",
       "1  1            1         1        NA            5      100.00 2012\n",
       "2 12            4         4        NA            1       91.67 2012\n",
       "3 16           16        11        NA           50       86.17 2012\n",
       "4 15           13        19        NA           26       82.34 2012\n",
       "5  8           19        23        NA            3       69.49 2012\n",
       "6 40           51        44        NA           34       66.69 2012"
      ]
     },
     "metadata": {},
     "output_type": "display_data"
    }
   ],
   "source": [
    "## Here's an example filter call, looking for all the rows where\n",
    "## national_rank <= 2.\n",
    "\n",
    "## Note that filter takes two arguments: the data frame, and then an expression that returns either true or false based\n",
    "## on a column name. Be careful with how you type the column name, casing matters!\n",
    "\n",
    "top_national_universities_df <- filter(university_df, national_rank <= 2)\n",
    "head(top_national_universities_df)"
   ]
  },
  {
   "cell_type": "code",
   "execution_count": 26,
   "id": "47857840-f393-40bb-a77f-fab852c2813b",
   "metadata": {},
   "outputs": [
    {
     "data": {
      "text/html": [
       "<table class=\"dataframe\">\n",
       "<caption>A tibble: 6 × 14</caption>\n",
       "<thead>\n",
       "\t<tr><th scope=col>world_rank</th><th scope=col>institution</th><th scope=col>country</th><th scope=col>national_rank</th><th scope=col>quality_of_education</th><th scope=col>alumni_employment</th><th scope=col>quality_of_faculty</th><th scope=col>publications</th><th scope=col>influence</th><th scope=col>citations</th><th scope=col>broad_impact</th><th scope=col>patents</th><th scope=col>score</th><th scope=col>year</th></tr>\n",
       "\t<tr><th scope=col>&lt;dbl&gt;</th><th scope=col>&lt;chr&gt;</th><th scope=col>&lt;chr&gt;</th><th scope=col>&lt;dbl&gt;</th><th scope=col>&lt;dbl&gt;</th><th scope=col>&lt;dbl&gt;</th><th scope=col>&lt;dbl&gt;</th><th scope=col>&lt;dbl&gt;</th><th scope=col>&lt;dbl&gt;</th><th scope=col>&lt;dbl&gt;</th><th scope=col>&lt;dbl&gt;</th><th scope=col>&lt;dbl&gt;</th><th scope=col>&lt;dbl&gt;</th><th scope=col>&lt;dbl&gt;</th></tr>\n",
       "</thead>\n",
       "<tbody>\n",
       "\t<tr><td>35</td><td>University of Toronto         </td><td>Canada</td><td>1</td><td>101</td><td>101</td><td>34</td><td> 7</td><td>14</td><td>18</td><td>NA</td><td>101</td><td>53.43</td><td>2012</td></tr>\n",
       "\t<tr><td>41</td><td>McGill University             </td><td>Canada</td><td>2</td><td> 70</td><td> 91</td><td>54</td><td>33</td><td>39</td><td>47</td><td>NA</td><td>101</td><td>51.72</td><td>2012</td></tr>\n",
       "\t<tr><td>67</td><td>University of British Columbia</td><td>Canada</td><td>3</td><td>101</td><td>101</td><td>93</td><td>28</td><td>38</td><td>48</td><td>NA</td><td>101</td><td>47.74</td><td>2012</td></tr>\n",
       "\t<tr><td>29</td><td>University of Toronto         </td><td>Canada</td><td>1</td><td> 91</td><td> 81</td><td>34</td><td> 2</td><td>13</td><td>12</td><td>NA</td><td>101</td><td>56.11</td><td>2013</td></tr>\n",
       "\t<tr><td>47</td><td>McGill University             </td><td>Canada</td><td>2</td><td> 54</td><td> 62</td><td>59</td><td>34</td><td>42</td><td>48</td><td>NA</td><td>101</td><td>50.77</td><td>2013</td></tr>\n",
       "\t<tr><td>58</td><td>University of British Columbia</td><td>Canada</td><td>3</td><td>101</td><td>101</td><td>95</td><td>25</td><td>39</td><td>39</td><td>NA</td><td>100</td><td>48.51</td><td>2013</td></tr>\n",
       "</tbody>\n",
       "</table>\n"
      ],
      "text/latex": [
       "A tibble: 6 × 14\n",
       "\\begin{tabular}{llllllllllllll}\n",
       " world\\_rank & institution & country & national\\_rank & quality\\_of\\_education & alumni\\_employment & quality\\_of\\_faculty & publications & influence & citations & broad\\_impact & patents & score & year\\\\\n",
       " <dbl> & <chr> & <chr> & <dbl> & <dbl> & <dbl> & <dbl> & <dbl> & <dbl> & <dbl> & <dbl> & <dbl> & <dbl> & <dbl>\\\\\n",
       "\\hline\n",
       "\t 35 & University of Toronto          & Canada & 1 & 101 & 101 & 34 &  7 & 14 & 18 & NA & 101 & 53.43 & 2012\\\\\n",
       "\t 41 & McGill University              & Canada & 2 &  70 &  91 & 54 & 33 & 39 & 47 & NA & 101 & 51.72 & 2012\\\\\n",
       "\t 67 & University of British Columbia & Canada & 3 & 101 & 101 & 93 & 28 & 38 & 48 & NA & 101 & 47.74 & 2012\\\\\n",
       "\t 29 & University of Toronto          & Canada & 1 &  91 &  81 & 34 &  2 & 13 & 12 & NA & 101 & 56.11 & 2013\\\\\n",
       "\t 47 & McGill University              & Canada & 2 &  54 &  62 & 59 & 34 & 42 & 48 & NA & 101 & 50.77 & 2013\\\\\n",
       "\t 58 & University of British Columbia & Canada & 3 & 101 & 101 & 95 & 25 & 39 & 39 & NA & 100 & 48.51 & 2013\\\\\n",
       "\\end{tabular}\n"
      ],
      "text/markdown": [
       "\n",
       "A tibble: 6 × 14\n",
       "\n",
       "| world_rank &lt;dbl&gt; | institution &lt;chr&gt; | country &lt;chr&gt; | national_rank &lt;dbl&gt; | quality_of_education &lt;dbl&gt; | alumni_employment &lt;dbl&gt; | quality_of_faculty &lt;dbl&gt; | publications &lt;dbl&gt; | influence &lt;dbl&gt; | citations &lt;dbl&gt; | broad_impact &lt;dbl&gt; | patents &lt;dbl&gt; | score &lt;dbl&gt; | year &lt;dbl&gt; |\n",
       "|---|---|---|---|---|---|---|---|---|---|---|---|---|---|\n",
       "| 35 | University of Toronto          | Canada | 1 | 101 | 101 | 34 |  7 | 14 | 18 | NA | 101 | 53.43 | 2012 |\n",
       "| 41 | McGill University              | Canada | 2 |  70 |  91 | 54 | 33 | 39 | 47 | NA | 101 | 51.72 | 2012 |\n",
       "| 67 | University of British Columbia | Canada | 3 | 101 | 101 | 93 | 28 | 38 | 48 | NA | 101 | 47.74 | 2012 |\n",
       "| 29 | University of Toronto          | Canada | 1 |  91 |  81 | 34 |  2 | 13 | 12 | NA | 101 | 56.11 | 2013 |\n",
       "| 47 | McGill University              | Canada | 2 |  54 |  62 | 59 | 34 | 42 | 48 | NA | 101 | 50.77 | 2013 |\n",
       "| 58 | University of British Columbia | Canada | 3 | 101 | 101 | 95 | 25 | 39 | 39 | NA | 100 | 48.51 | 2013 |\n",
       "\n"
      ],
      "text/plain": [
       "  world_rank institution                    country national_rank\n",
       "1 35         University of Toronto          Canada  1            \n",
       "2 41         McGill University              Canada  2            \n",
       "3 67         University of British Columbia Canada  3            \n",
       "4 29         University of Toronto          Canada  1            \n",
       "5 47         McGill University              Canada  2            \n",
       "6 58         University of British Columbia Canada  3            \n",
       "  quality_of_education alumni_employment quality_of_faculty publications\n",
       "1 101                  101               34                  7          \n",
       "2  70                   91               54                 33          \n",
       "3 101                  101               93                 28          \n",
       "4  91                   81               34                  2          \n",
       "5  54                   62               59                 34          \n",
       "6 101                  101               95                 25          \n",
       "  influence citations broad_impact patents score year\n",
       "1 14        18        NA           101     53.43 2012\n",
       "2 39        47        NA           101     51.72 2012\n",
       "3 38        48        NA           101     47.74 2012\n",
       "4 13        12        NA           101     56.11 2013\n",
       "5 42        48        NA           101     50.77 2013\n",
       "6 39        39        NA           100     48.51 2013"
      ]
     },
     "metadata": {},
     "output_type": "display_data"
    }
   ],
   "source": [
    "## Now, it's your turn to try filtering!\n",
    "\n",
    "## Your turn: filter all the rows where country == \"Canada\". Save this to a variable called \"canadian_universities_df\".\n",
    "\n",
    "### BEGIN SOLUTION ###\n",
    "\n",
    "canadian_universities_df <- filter(university_df, country == \"Canada\")\n",
    "head(canadian_universities_df)\n",
    "\n",
    "### END SOLUTION ###"
   ]
  },
  {
   "cell_type": "code",
   "execution_count": 27,
   "id": "97536b5c-ea0c-4479-b2bf-c92e72757a44",
   "metadata": {},
   "outputs": [
    {
     "name": "stdout",
     "output_type": "stream",
     "text": [
      "\u001b[32mTest passed\u001b[39m 🌈\n"
     ]
    }
   ],
   "source": [
    "test_that(\"univesity data is filtered correctly\", {\n",
    "  expect_equal(nrow(canadian_universities_df), 72)\n",
    "})"
   ]
  },
  {
   "cell_type": "markdown",
   "id": "048c9375-4176-47a7-b05c-42d8cf06cfc0",
   "metadata": {},
   "source": [
    "Aside from filtering our data, we'll often want to `select` certain columns."
   ]
  },
  {
   "cell_type": "code",
   "execution_count": 28,
   "id": "c1f78bdb-956d-4d0a-877e-31cb44b6ab8b",
   "metadata": {},
   "outputs": [
    {
     "data": {
      "text/html": [
       "<table class=\"dataframe\">\n",
       "<caption>A tibble: 6 × 2</caption>\n",
       "<thead>\n",
       "\t<tr><th scope=col>institution</th><th scope=col>country</th></tr>\n",
       "\t<tr><th scope=col>&lt;chr&gt;</th><th scope=col>&lt;chr&gt;</th></tr>\n",
       "</thead>\n",
       "<tbody>\n",
       "\t<tr><td>Harvard University                   </td><td>USA           </td></tr>\n",
       "\t<tr><td>Massachusetts Institute of Technology</td><td>USA           </td></tr>\n",
       "\t<tr><td>Stanford University                  </td><td>USA           </td></tr>\n",
       "\t<tr><td>University of Cambridge              </td><td>United Kingdom</td></tr>\n",
       "\t<tr><td>California Institute of Technology   </td><td>USA           </td></tr>\n",
       "\t<tr><td>Princeton University                 </td><td>USA           </td></tr>\n",
       "</tbody>\n",
       "</table>\n"
      ],
      "text/latex": [
       "A tibble: 6 × 2\n",
       "\\begin{tabular}{ll}\n",
       " institution & country\\\\\n",
       " <chr> & <chr>\\\\\n",
       "\\hline\n",
       "\t Harvard University                    & USA           \\\\\n",
       "\t Massachusetts Institute of Technology & USA           \\\\\n",
       "\t Stanford University                   & USA           \\\\\n",
       "\t University of Cambridge               & United Kingdom\\\\\n",
       "\t California Institute of Technology    & USA           \\\\\n",
       "\t Princeton University                  & USA           \\\\\n",
       "\\end{tabular}\n"
      ],
      "text/markdown": [
       "\n",
       "A tibble: 6 × 2\n",
       "\n",
       "| institution &lt;chr&gt; | country &lt;chr&gt; |\n",
       "|---|---|\n",
       "| Harvard University                    | USA            |\n",
       "| Massachusetts Institute of Technology | USA            |\n",
       "| Stanford University                   | USA            |\n",
       "| University of Cambridge               | United Kingdom |\n",
       "| California Institute of Technology    | USA            |\n",
       "| Princeton University                  | USA            |\n",
       "\n"
      ],
      "text/plain": [
       "  institution                           country       \n",
       "1 Harvard University                    USA           \n",
       "2 Massachusetts Institute of Technology USA           \n",
       "3 Stanford University                   USA           \n",
       "4 University of Cambridge               United Kingdom\n",
       "5 California Institute of Technology    USA           \n",
       "6 Princeton University                  USA           "
      ]
     },
     "metadata": {},
     "output_type": "display_data"
    }
   ],
   "source": [
    "## The function we use is likewise called \"select\". Select's first parameter must be the data set.\n",
    "## Then, every parameter after must be a column we want to keep.\n",
    "\n",
    "## for example, selected_columns <- select(original_data, column1, column2, ..., columnN)\n",
    "## You can select as many, or as few, columns as you want\n",
    "\n",
    "university_small_df <- select(university_df, institution, country)\n",
    "head(university_small_df)"
   ]
  },
  {
   "cell_type": "code",
   "execution_count": 29,
   "id": "b6a4d3e1-bf78-4b5e-b101-d10128cef113",
   "metadata": {},
   "outputs": [
    {
     "data": {
      "text/html": [
       "<table class=\"dataframe\">\n",
       "<caption>A tibble: 6 × 3</caption>\n",
       "<thead>\n",
       "\t<tr><th scope=col>national_rank</th><th scope=col>world_rank</th><th scope=col>year</th></tr>\n",
       "\t<tr><th scope=col>&lt;dbl&gt;</th><th scope=col>&lt;dbl&gt;</th><th scope=col>&lt;dbl&gt;</th></tr>\n",
       "</thead>\n",
       "<tbody>\n",
       "\t<tr><td>1</td><td>1</td><td>2012</td></tr>\n",
       "\t<tr><td>2</td><td>2</td><td>2012</td></tr>\n",
       "\t<tr><td>3</td><td>3</td><td>2012</td></tr>\n",
       "\t<tr><td>1</td><td>4</td><td>2012</td></tr>\n",
       "\t<tr><td>4</td><td>5</td><td>2012</td></tr>\n",
       "\t<tr><td>5</td><td>6</td><td>2012</td></tr>\n",
       "</tbody>\n",
       "</table>\n"
      ],
      "text/latex": [
       "A tibble: 6 × 3\n",
       "\\begin{tabular}{lll}\n",
       " national\\_rank & world\\_rank & year\\\\\n",
       " <dbl> & <dbl> & <dbl>\\\\\n",
       "\\hline\n",
       "\t 1 & 1 & 2012\\\\\n",
       "\t 2 & 2 & 2012\\\\\n",
       "\t 3 & 3 & 2012\\\\\n",
       "\t 1 & 4 & 2012\\\\\n",
       "\t 4 & 5 & 2012\\\\\n",
       "\t 5 & 6 & 2012\\\\\n",
       "\\end{tabular}\n"
      ],
      "text/markdown": [
       "\n",
       "A tibble: 6 × 3\n",
       "\n",
       "| national_rank &lt;dbl&gt; | world_rank &lt;dbl&gt; | year &lt;dbl&gt; |\n",
       "|---|---|---|\n",
       "| 1 | 1 | 2012 |\n",
       "| 2 | 2 | 2012 |\n",
       "| 3 | 3 | 2012 |\n",
       "| 1 | 4 | 2012 |\n",
       "| 4 | 5 | 2012 |\n",
       "| 5 | 6 | 2012 |\n",
       "\n"
      ],
      "text/plain": [
       "  national_rank world_rank year\n",
       "1 1             1          2012\n",
       "2 2             2          2012\n",
       "3 3             3          2012\n",
       "4 1             4          2012\n",
       "5 4             5          2012\n",
       "6 5             6          2012"
      ]
     },
     "metadata": {},
     "output_type": "display_data"
    }
   ],
   "source": [
    "## Your turn: select only the national_rank, world_rank, and year columns from the (original) university data. Save\n",
    "## it to a variable called university_select_df\n",
    "\n",
    "### BEGIN SOLUTION ###\n",
    "\n",
    "university_select_df <- select(university_df, national_rank, world_rank, year)\n",
    "head(university_select_df)\n",
    "\n",
    "### END SOLUTION ###"
   ]
  },
  {
   "cell_type": "code",
   "execution_count": 30,
   "id": "e2ad126d-8257-48c0-98b2-f88a06ab6e38",
   "metadata": {},
   "outputs": [
    {
     "name": "stdout",
     "output_type": "stream",
     "text": [
      "\u001b[32mTest passed\u001b[39m 😀\n"
     ]
    }
   ],
   "source": [
    "test_that(\"university is selected correctly\", {\n",
    "  expect_equal(ncol(university_select_df), 3)\n",
    "})"
   ]
  },
  {
   "cell_type": "markdown",
   "id": "7f7d1963-2971-45eb-8fed-b38443d04a03",
   "metadata": {},
   "source": [
    "### tl;dr 💭\n",
    "\n",
    "This entire process of selecting, filtering, and modifying data is generally referred to as \"wrangling.\" This process is extremely important, because working with good, clean data is vital to producing a good visualization or model.\n",
    "\n",
    "Other common operations that you'll want to take a look at after the workshop:\n",
    "\n",
    "* `mutate` for adding new columns\n",
    "* `group_by` + `summarize` for grouping and 'merging' the data\n",
    "* `gather` + `spread` for tidying data"
   ]
  },
  {
   "cell_type": "markdown",
   "id": "d94dac3c-b77e-4ee4-9634-ed4cf9f8d949",
   "metadata": {},
   "source": [
    "### A first visualization 💡\n",
    "\n",
    "With R, the most common and straightforward way of creating a visualization is by using `ggplot`. `ggplot` is a really fancy R function used to create lots of different kinds of \"plots\", such as a bar chart, histogram, or scatter plot.\n",
    "\n",
    "It is super powerful, and you can create *tons* of different charts with it. The only way to master `ggplot` is to experiment and try many different things. Better than try to \"explain\" `ggplot`, I'm going to show you some example code, and we'll pick it apart as we go along.\n",
    "\n",
    "Here, I'll try to give you a taste of what's possible!"
   ]
  },
  {
   "cell_type": "code",
   "execution_count": 31,
   "id": "7d005289-7f4b-4931-87b9-98fff4e6da67",
   "metadata": {},
   "outputs": [
    {
     "data": {
      "text/html": [
       "<table class=\"dataframe\">\n",
       "<caption>A tibble: 6 × 14</caption>\n",
       "<thead>\n",
       "\t<tr><th scope=col>world_rank</th><th scope=col>institution</th><th scope=col>country</th><th scope=col>national_rank</th><th scope=col>quality_of_education</th><th scope=col>alumni_employment</th><th scope=col>quality_of_faculty</th><th scope=col>publications</th><th scope=col>influence</th><th scope=col>citations</th><th scope=col>broad_impact</th><th scope=col>patents</th><th scope=col>score</th><th scope=col>year</th></tr>\n",
       "\t<tr><th scope=col>&lt;dbl&gt;</th><th scope=col>&lt;chr&gt;</th><th scope=col>&lt;chr&gt;</th><th scope=col>&lt;dbl&gt;</th><th scope=col>&lt;dbl&gt;</th><th scope=col>&lt;dbl&gt;</th><th scope=col>&lt;dbl&gt;</th><th scope=col>&lt;dbl&gt;</th><th scope=col>&lt;dbl&gt;</th><th scope=col>&lt;dbl&gt;</th><th scope=col>&lt;dbl&gt;</th><th scope=col>&lt;dbl&gt;</th><th scope=col>&lt;dbl&gt;</th><th scope=col>&lt;dbl&gt;</th></tr>\n",
       "</thead>\n",
       "<tbody>\n",
       "\t<tr><td>1</td><td>Harvard University                   </td><td>USA           </td><td>1</td><td> 1</td><td> 1</td><td> 1</td><td> 1</td><td> 1</td><td> 1</td><td> 1</td><td> 3</td><td>100.00</td><td>2015</td></tr>\n",
       "\t<tr><td>2</td><td>Stanford University                  </td><td>USA           </td><td>2</td><td> 9</td><td> 2</td><td> 4</td><td> 5</td><td> 3</td><td> 3</td><td> 4</td><td>10</td><td> 98.66</td><td>2015</td></tr>\n",
       "\t<tr><td>3</td><td>Massachusetts Institute of Technology</td><td>USA           </td><td>3</td><td> 3</td><td>11</td><td> 2</td><td>15</td><td> 2</td><td> 2</td><td> 2</td><td> 1</td><td> 97.54</td><td>2015</td></tr>\n",
       "\t<tr><td>4</td><td>University of Cambridge              </td><td>United Kingdom</td><td>1</td><td> 2</td><td>10</td><td> 5</td><td>11</td><td> 6</td><td>12</td><td>13</td><td>48</td><td> 96.81</td><td>2015</td></tr>\n",
       "\t<tr><td>5</td><td>University of Oxford                 </td><td>United Kingdom</td><td>2</td><td> 7</td><td>13</td><td>10</td><td> 7</td><td>12</td><td> 7</td><td> 9</td><td>15</td><td> 96.46</td><td>2015</td></tr>\n",
       "\t<tr><td>6</td><td>Columbia University                  </td><td>USA           </td><td>4</td><td>13</td><td> 6</td><td> 9</td><td>13</td><td>13</td><td>11</td><td>12</td><td> 4</td><td> 96.14</td><td>2015</td></tr>\n",
       "</tbody>\n",
       "</table>\n"
      ],
      "text/latex": [
       "A tibble: 6 × 14\n",
       "\\begin{tabular}{llllllllllllll}\n",
       " world\\_rank & institution & country & national\\_rank & quality\\_of\\_education & alumni\\_employment & quality\\_of\\_faculty & publications & influence & citations & broad\\_impact & patents & score & year\\\\\n",
       " <dbl> & <chr> & <chr> & <dbl> & <dbl> & <dbl> & <dbl> & <dbl> & <dbl> & <dbl> & <dbl> & <dbl> & <dbl> & <dbl>\\\\\n",
       "\\hline\n",
       "\t 1 & Harvard University                    & USA            & 1 &  1 &  1 &  1 &  1 &  1 &  1 &  1 &  3 & 100.00 & 2015\\\\\n",
       "\t 2 & Stanford University                   & USA            & 2 &  9 &  2 &  4 &  5 &  3 &  3 &  4 & 10 &  98.66 & 2015\\\\\n",
       "\t 3 & Massachusetts Institute of Technology & USA            & 3 &  3 & 11 &  2 & 15 &  2 &  2 &  2 &  1 &  97.54 & 2015\\\\\n",
       "\t 4 & University of Cambridge               & United Kingdom & 1 &  2 & 10 &  5 & 11 &  6 & 12 & 13 & 48 &  96.81 & 2015\\\\\n",
       "\t 5 & University of Oxford                  & United Kingdom & 2 &  7 & 13 & 10 &  7 & 12 &  7 &  9 & 15 &  96.46 & 2015\\\\\n",
       "\t 6 & Columbia University                   & USA            & 4 & 13 &  6 &  9 & 13 & 13 & 11 & 12 &  4 &  96.14 & 2015\\\\\n",
       "\\end{tabular}\n"
      ],
      "text/markdown": [
       "\n",
       "A tibble: 6 × 14\n",
       "\n",
       "| world_rank &lt;dbl&gt; | institution &lt;chr&gt; | country &lt;chr&gt; | national_rank &lt;dbl&gt; | quality_of_education &lt;dbl&gt; | alumni_employment &lt;dbl&gt; | quality_of_faculty &lt;dbl&gt; | publications &lt;dbl&gt; | influence &lt;dbl&gt; | citations &lt;dbl&gt; | broad_impact &lt;dbl&gt; | patents &lt;dbl&gt; | score &lt;dbl&gt; | year &lt;dbl&gt; |\n",
       "|---|---|---|---|---|---|---|---|---|---|---|---|---|---|\n",
       "| 1 | Harvard University                    | USA            | 1 |  1 |  1 |  1 |  1 |  1 |  1 |  1 |  3 | 100.00 | 2015 |\n",
       "| 2 | Stanford University                   | USA            | 2 |  9 |  2 |  4 |  5 |  3 |  3 |  4 | 10 |  98.66 | 2015 |\n",
       "| 3 | Massachusetts Institute of Technology | USA            | 3 |  3 | 11 |  2 | 15 |  2 |  2 |  2 |  1 |  97.54 | 2015 |\n",
       "| 4 | University of Cambridge               | United Kingdom | 1 |  2 | 10 |  5 | 11 |  6 | 12 | 13 | 48 |  96.81 | 2015 |\n",
       "| 5 | University of Oxford                  | United Kingdom | 2 |  7 | 13 | 10 |  7 | 12 |  7 |  9 | 15 |  96.46 | 2015 |\n",
       "| 6 | Columbia University                   | USA            | 4 | 13 |  6 |  9 | 13 | 13 | 11 | 12 |  4 |  96.14 | 2015 |\n",
       "\n"
      ],
      "text/plain": [
       "  world_rank institution                           country        national_rank\n",
       "1 1          Harvard University                    USA            1            \n",
       "2 2          Stanford University                   USA            2            \n",
       "3 3          Massachusetts Institute of Technology USA            3            \n",
       "4 4          University of Cambridge               United Kingdom 1            \n",
       "5 5          University of Oxford                  United Kingdom 2            \n",
       "6 6          Columbia University                   USA            4            \n",
       "  quality_of_education alumni_employment quality_of_faculty publications\n",
       "1  1                    1                 1                  1          \n",
       "2  9                    2                 4                  5          \n",
       "3  3                   11                 2                 15          \n",
       "4  2                   10                 5                 11          \n",
       "5  7                   13                10                  7          \n",
       "6 13                    6                 9                 13          \n",
       "  influence citations broad_impact patents score  year\n",
       "1  1         1         1            3      100.00 2015\n",
       "2  3         3         4           10       98.66 2015\n",
       "3  2         2         2            1       97.54 2015\n",
       "4  6        12        13           48       96.81 2015\n",
       "5 12         7         9           15       96.46 2015\n",
       "6 13        11        12            4       96.14 2015"
      ]
     },
     "metadata": {},
     "output_type": "display_data"
    }
   ],
   "source": [
    "# Keep the most recent year from our data set\n",
    "university_df_2015 <- filter(university_df, year == 2015)\n",
    "head(university_df_2015)"
   ]
  },
  {
   "cell_type": "code",
   "execution_count": 32,
   "id": "a65b96ec-6300-4749-b5fe-68d1bc531da6",
   "metadata": {},
   "outputs": [
    {
     "data": {
      "image/png": "[encoded data removed]",
      "text/plain": [
       "plot without title"
      ]
     },
     "metadata": {
      "image/png": {
       "height": 420,
       "width": 420
      }
     },
     "output_type": "display_data"
    }
   ],
   "source": [
    "## Here's a basic scatterplot of the data we've gathered looking at score against world_rank\n",
    "basic_plot <- ggplot(university_df_2015, aes(x = score, y = world_rank)) +\n",
    "    geom_point()\n",
    "basic_plot"
   ]
  },
  {
   "cell_type": "markdown",
   "id": "4ac76b08-a37b-4f2f-a055-e2f44455118d",
   "metadata": {},
   "source": [
    "ggplot looks scary, so let's try to break it down. Firstly, you should recognize ggplot is a function, and takes a series of arguments. The first argument is your data set. The second is the \"aes\", short of the \"aesthetic specifications\". For our purposes, this is just a function that accepts the x and y columns we'd like to use.\n",
    "\n",
    "What is the \"+\" symbol at the end doing? We'll get to that in the next section."
   ]
  },
  {
   "cell_type": "code",
   "execution_count": 33,
   "id": "8f70b898-386a-472e-81c1-2d36c87ba846",
   "metadata": {},
   "outputs": [
    {
     "data": {
      "image/png": "[encoded data removed]",
      "text/plain": [
       "plot without title"
      ]
     },
     "metadata": {
      "image/png": {
       "height": 420,
       "width": 420
      }
     },
     "output_type": "display_data"
    }
   ],
   "source": [
    "## Your turn: create a scatterplot with quality_of_education along the x axis and quality_of_faculty along the y axis.\n",
    "\n",
    "## Hint: copy and paste is your friend.\n",
    "\n",
    "### BEGIN SOLUTION\n",
    "\n",
    "quality_plot <- ggplot(university_df_2015, aes(x = quality_of_education, y = quality_of_faculty)) +\n",
    "    geom_point()\n",
    "quality_plot\n",
    "\n",
    "### END SOLUTION"
   ]
  },
  {
   "cell_type": "code",
   "execution_count": 34,
   "id": "0512fa39-0112-4a4f-b80d-c37d150ebd91",
   "metadata": {},
   "outputs": [
    {
     "data": {
      "image/png": "[encoded data removed]",
      "text/plain": [
       "plot without title"
      ]
     },
     "metadata": {
      "image/png": {
       "height": 420,
       "width": 420
      }
     },
     "output_type": "display_data"
    }
   ],
   "source": [
    "## Your turn: using your solution from the last cell, change \"geom_point()\" to \"geom_violin()\". What happens?\n",
    "\n",
    "### BEGIN SOLUTION\n",
    "\n",
    "violin_plot <- ggplot(university_df_2015, aes(x = quality_of_education, y = quality_of_faculty)) +\n",
    "    geom_violin()\n",
    "violin_plot\n",
    "\n",
    "### END SOLUTION\n",
    "\n",
    "## Psst... see a complete list of different geom_...()s you can put here: https://ggplot2.tidyverse.org/reference/"
   ]
  },
  {
   "cell_type": "markdown",
   "id": "b35b8b76-1308-47e4-a57c-bfefe933d998",
   "metadata": {},
   "source": [
    "Woo hoo! You've made your first few plots ever. With practice, you'll find using ggplot to create effective visualizations is tremendously easier than trying to do the same thing in Excel. \n",
    "\n",
    "We can add layers to our plot to supply additional graphics; this is also useful for adding additional data, such as a single point, to our graph. Again, let's look at some sample code and I'll help break it down for you.\n",
    "\n",
    "Here's a rather involved example."
   ]
  },
  {
   "cell_type": "code",
   "execution_count": 35,
   "id": "8a29b82c-5b2c-4354-a049-2ae8c0a24db7",
   "metadata": {},
   "outputs": [
    {
     "name": "stderr",
     "output_type": "stream",
     "text": [
      "`geom_smooth()` using formula 'y ~ x'\n",
      "\n"
     ]
    },
    {
     "data": {
      "image/png": "[encoded data removed]",
      "text/plain": [
       "plot without title"
      ]
     },
     "metadata": {
      "image/png": {
       "height": 420,
       "width": 420
      }
     },
     "output_type": "display_data"
    }
   ],
   "source": [
    "# NOTE: we're graphing rankings, so smaller is better.\n",
    "\n",
    "ggplot(university_df_2015, aes(x = quality_of_faculty, \n",
    "                          y = publications)) +\n",
    "    geom_point() + \n",
    "    xlab(\"Quality of Faculty\") +\n",
    "    ylab(\"Publications\") + \n",
    "    ggtitle(\"Quality of Faculty vs. Publications\") +\n",
    "    geom_smooth(method=lm,   # Add linear regression line\n",
    "                se=FALSE) +  # Don't add shaded confidence region\n",
    "    theme(text = element_text(size = 15))"
   ]
  },
  {
   "cell_type": "markdown",
   "id": "68e87dab-9be0-4948-b914-748dbdb34e2a",
   "metadata": {},
   "source": [
    "Notice the \"+\" symbol at the end of every line? This is something special we do with ggplot, usually referred to as \"adding layers\". We can make our visualization more complex by adding one \"layer\" at a time. A layer typically refers to something like geom_point()—which adds a point layer to our graph—or geom_smooth() or the countless other layers we can add, but you can also use \"+\" to add things like a theme to your plot, a legend, labels for your x- and y- axes, and more. The possibilities are endless!"
   ]
  },
  {
   "cell_type": "code",
   "execution_count": 36,
   "id": "87e457da-fe70-4c8a-9a9b-8b63ef99a4bf",
   "metadata": {},
   "outputs": [
    {
     "data": {
      "image/png": "[encoded data removed]",
      "text/plain": [
       "plot without title"
      ]
     },
     "metadata": {
      "image/png": {
       "height": 420,
       "width": 420
      }
     },
     "output_type": "display_data"
    }
   ],
   "source": [
    "## Your turn: make the font size of basic_plot 60 by adding a layer. Save it to a variable called big_text_plot.\n",
    "\n",
    "### BEGIN SOLUTION ###\n",
    "\n",
    "big_text_plot <- basic_plot + theme(text = element_text(size = 60))\n",
    "big_text_plot\n",
    "\n",
    "### END SOLUTION ###"
   ]
  },
  {
   "cell_type": "markdown",
   "id": "e6710d9e-151f-408a-85dd-e84469660ddd",
   "metadata": {},
   "source": [
    "### A first model 🤯\n",
    "\n",
    "We've covered a lot of really good ground. Now let's try and make your very first model!\n",
    "\n",
    "Our goal is to use all of the qualities of a school's education, `quality_of_education`, to predict it's `score`. I'm going to have a spare a lot of the technical details, but our goal is to do two things:\n",
    "\n",
    "1. Produce a scatter plot with our two chosen qualities\n",
    "2. Draw a straight line that goes through roughly the center of those points\n",
    "\n",
    "For _new_ observations, we can then see where the x-value falls on the straight line, and take the corresponding y-value.\n",
    "\n",
    "Again, \"show\" is better than \"tell\", so let's take a look."
   ]
  },
  {
   "cell_type": "code",
   "execution_count": 37,
   "id": "4dda7ffd-4e4d-4c26-8ac4-1c42b38419ca",
   "metadata": {},
   "outputs": [
    {
     "data": {
      "image/png": "[encoded data removed]",
      "text/plain": [
       "plot without title"
      ]
     },
     "metadata": {
      "image/png": {
       "height": 420,
       "width": 420
      }
     },
     "output_type": "display_data"
    }
   ],
   "source": [
    "score_plot <- ggplot(university_df_2015, aes(x = quality_of_education, y = score)) +\n",
    "    geom_point()\n",
    "score_plot"
   ]
  },
  {
   "cell_type": "markdown",
   "id": "ab41e121-e270-48b4-945a-799e6a793970",
   "metadata": {},
   "source": [
    "From the plot, it's clear that a higher quality of education rank (which is a _lower_ number), leads to a _much_ higher score. Let's see if we can capture this relationship with a straight line somehow."
   ]
  },
  {
   "cell_type": "code",
   "execution_count": 38,
   "id": "f38b518e-8b66-472e-a884-be34bbc1fa4f",
   "metadata": {},
   "outputs": [
    {
     "name": "stderr",
     "output_type": "stream",
     "text": [
      "`geom_smooth()` using formula 'y ~ x'\n",
      "\n"
     ]
    },
    {
     "data": {
      "image/png": "[encoded data removed]",
      "text/plain": [
       "plot without title"
      ]
     },
     "metadata": {
      "image/png": {
       "height": 420,
       "width": 420
      }
     },
     "output_type": "display_data"
    }
   ],
   "source": [
    "score_plot + geom_smooth(method=lm, se=FALSE)"
   ]
  },
  {
   "cell_type": "markdown",
   "id": "f9b18edf-f7cc-4db5-8604-e2a2ffd04b57",
   "metadata": {},
   "source": [
    "Not too shabby... you can see here how adding another layer of `geom_smooth` (which produces these kind of lines) can help us turn our visualization into a model.\n",
    "\n",
    "But what if we want the exact coefficients to make a new prediction? We'll have to use the `lm` function. Since I can't go into too much more detail, I'll provide some sample code for you below to tinker with sometime this weekend!"
   ]
  },
  {
   "cell_type": "markdown",
   "id": "3f604636-4b2c-41ee-bfaa-8056c731b984",
   "metadata": {},
   "source": [
    "### Aside: `y = mx + b`\n",
    "\n",
    "If you haven't seen this before or need a quick refresher, the idea for our prediction is based on this equation: `y = mx + b`. This equation describes a straight line using\n",
    "\n",
    "<br />\n",
    "<p style=\"text-align: center;\"><img style=\"box-shadow: 0 4px 8px 0 rgba(0, 0, 0, 0.2), 0 6px 20px 0 rgba(0, 0, 0, 0.19);\" width=\"30%\" src=\"./images/y-mx-b.png\" /></p>\n",
    "\n",
    "* `m`, the slope (or \"steepness\") of the line\n",
    "* `b`, the y-intercept of the line, where it intersects with the y-axis\n",
    "\n",
    "If we feed into an `x` value, we can get a corresponding `y`. So, we know visually what our model is, but we need to do a bit more work to get our specific `b` and `m` values."
   ]
  },
  {
   "cell_type": "markdown",
   "id": "6dfb892f-b8ee-4aa9-bde1-fa07aaa57b83",
   "metadata": {},
   "source": [
    "To do something similar to `geom_smooth`, but to get the actual coefficients, we'll use `lm`. See it in use below."
   ]
  },
  {
   "cell_type": "code",
   "execution_count": 39,
   "id": "2fc97bbf-9003-4a01-b5ca-e62e207f0344",
   "metadata": {},
   "outputs": [
    {
     "name": "stdout",
     "output_type": "stream",
     "text": [
      "\u001b[90m# A tibble: 2 × 5\u001b[39m\n",
      "  term        estimate std.error statistic   p.value\n",
      "  \u001b[3m\u001b[90m<chr>\u001b[39m\u001b[23m          \u001b[3m\u001b[90m<dbl>\u001b[39m\u001b[23m     \u001b[3m\u001b[90m<dbl>\u001b[39m\u001b[23m     \u001b[3m\u001b[90m<dbl>\u001b[39m\u001b[23m     \u001b[3m\u001b[90m<dbl>\u001b[39m\u001b[23m\n",
      "\u001b[90m1\u001b[39m (Intercept)   768.      20.2        38.1 1.14\u001b[90me\u001b[39m\u001b[31m-196\u001b[39m\n",
      "\u001b[90m2\u001b[39m score          -\u001b[31m9\u001b[39m\u001b[31m.\u001b[39m\u001b[31m99\u001b[39m     0.426     -\u001b[31m23\u001b[39m\u001b[31m.\u001b[39m\u001b[31m4\u001b[39m 4.13\u001b[90me\u001b[39m\u001b[31m- 97\u001b[39m\n"
     ]
    }
   ],
   "source": [
    "linear_regression <- lm(quality_of_education ~ score, data=university_df_2015)\n",
    "linear_regression <- tidy(linear_regression)\n",
    "print(linear_regression)\n",
    "\n",
    "coeffs <- linear_regression$estimate "
   ]
  },
  {
   "cell_type": "markdown",
   "id": "1c23a7b8-ebf4-49f7-ac40-c6ca4d7e6d99",
   "metadata": {},
   "source": [
    "Say we want to predict the score for a university with a `quality_of_education` rank of 50."
   ]
  },
  {
   "cell_type": "code",
   "execution_count": 40,
   "id": "696dbfca-ddb0-453e-a1fe-4eae1fb966b9",
   "metadata": {},
   "outputs": [],
   "source": [
    "quality_of_education <- 50"
   ]
  },
  {
   "cell_type": "code",
   "execution_count": 41,
   "id": "8689022f-7c6d-460c-ae1f-8fddd343ad26",
   "metadata": {},
   "outputs": [
    {
     "data": {
      "text/html": [
       "268.515182671193"
      ],
      "text/latex": [
       "268.515182671193"
      ],
      "text/markdown": [
       "268.515182671193"
      ],
      "text/plain": [
       "[1] 268.5152"
      ]
     },
     "metadata": {},
     "output_type": "display_data"
    }
   ],
   "source": [
    "# y = mx + b\n",
    "score <- coeffs[1] + (coeffs[2]*quality_of_education)\n",
    "\n",
    "# Print the final score!\n",
    "score"
   ]
  },
  {
   "cell_type": "markdown",
   "id": "fa4e02a6-2c3f-4d86-8586-8c7c85b3e530",
   "metadata": {},
   "source": [
    "So, for a university of rank 50, we would predict a score of about 269. How cool!"
   ]
  },
  {
   "cell_type": "markdown",
   "id": "0d2a7cb5-ec4f-4c4b-b8db-ba6d2308a8e2",
   "metadata": {},
   "source": [
    "### Next Steps\n",
    "\n",
    "Today, we've managed to,\n",
    "\n",
    "* Learn basic R syntax\n",
    "* Import a data set\n",
    "* Explore a data set\n",
    "* Visualize a data set\n",
    "* Produce a first model\n",
    "\n",
    "Where to next? Here are some great options:\n",
    "\n",
    "* Look up more complex models to try. [Tidymodels](https://www.tidymodels.org/) is a fantastic library that makes it really easy to get started with this.\n",
    "* Deploy your code. You can't do it from Jupyter directly, but the guides on [this website](https://putrinprod.com/) can help you turn this into a kind of API.\n",
    "* Learn more about visualization. There's a lot to learn with graphing... stay curious!"
   ]
  },
  {
   "cell_type": "markdown",
   "id": "a97ac256-d075-42d9-b603-7a738292ea8f",
   "metadata": {},
   "source": [
    "<p style=\"text-align: center;\"><img style=\"box-shadow: 0 4px 8px 0 rgba(0, 0, 0, 0.2), 0 6px 20px 0 rgba(0, 0, 0, 0.19);\" width=\"25%\" src=\"./images/thats-all.jpg\" /></p>"
   ]
  }
 ],
 "metadata": {
  "kernelspec": {
   "display_name": "R",
   "language": "R",
   "name": "r"
  },
  "language_info": {
   "codemirror_mode": "r",
   "file_extension": ".r",
   "mimetype": "text/x-r-source",
   "name": "R",
   "pygments_lexer": "r",
   "version": "4.1.1"
  }
 },
 "nbformat": 4,
 "nbformat_minor": 5
}
